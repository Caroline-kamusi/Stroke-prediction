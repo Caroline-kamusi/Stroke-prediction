{
 "cells": [
  {
   "cell_type": "markdown",
   "metadata": {},
   "source": [
    "## Stroke Prediction"
   ]
  },
  {
   "cell_type": "markdown",
   "metadata": {},
   "source": [
    "### project overview\n",
    "The dataset from Kaggle titled \"Stroke Prediction Dataset\" provides a comprehensive collection of medical and lifestyle information on patients, which can be utilized to predict the likelihood of stroke occurrences. Given the profound global impact of strokes—causing significant morbidity, mortality, and healthcare costs—there is a critical need for effective preventive strategies. Healthcare providers and insurance companies are increasingly prioritizing preventive measures to mitigate the risk of stroke and enhance overall patient outcomes. This project seeks to leverage the dataset to optimize preventive healthcare programs aimed at reducing stroke incidences among high-risk populations."
   ]
  },
  {
   "cell_type": "markdown",
   "metadata": {},
   "source": [
    "## 1.Business Understanding\n",
    "### Objective:\n",
    "\n",
    "To develop a robust model to predict the likelihood of stroke in patients based on their health and demographic features, thereby providing valuable insights and aiding in better healthcare decision-making.\n",
    "\n",
    "### Business Problem:\n",
    "\n",
    "The challenge is to optimize preventive healthcare programs to reduce the incidence of strokes among high-risk populations.\n",
    "Effective strategies need to be based on detailed analysis of medical and lifestyle data to tailor interventions for different risk profiles.\n",
    "\n",
    "### Key Questions:\n",
    "\n",
    "1.Which factors most significantly contribute to stroke risk?\n",
    "\n",
    "3.How can we identify high-risk individuals using the available data?\n",
    "\n",
    "3.What types of preventive measures can be tailored to different risk profiles?\n",
    "\n",
    "### Stakeholders:\n",
    "\n",
    "1.Healthcare providers who need to implement preventive measures.\n",
    "\n",
    "2.Insurance companies interested in reducing costs associated with stroke treatment.\n",
    "\n",
    "3.Patients who would benefit from personalized health interventions."
   ]
  },
  {
   "cell_type": "markdown",
   "metadata": {},
   "source": [
    "## 2. Data Understanding\n",
    "Data Description:\n",
    "\n",
    "The stroke prediction dataset contains a variety of features related to patient demographics, medical history, and lifestyle factors:\n",
    "\n",
    "Demographic Information: Gender, age\n",
    "Medical History: Hypertension, heart diseases\n",
    "Lifestyle Factors: Smoking status, marital status\n",
    "Health Indicators: Body mass index (BMI), glucose levels.\n",
    "Target Variable: Stroke (binary outcome: 0 = No stroke, 1 = Stroke).\n",
    "Data Quality:\n",
    "\n",
    "Missing Values: Identify and address any missing data points.\n",
    "Inconsistencies: Check for any anomalies or inconsistencies in the data(e.g., invalid data entries).\n",
    "Outliers: Detect and analyze any outliers that may affect the model (e.g., age, BMI, glucose levels).\n"
   ]
  },
  {
   "cell_type": "markdown",
   "metadata": {},
   "source": [
    "\n",
    "Feature Analysis:\n",
    "I will be using (EDA), which begins with examining summary statistics such as the mean, median, and standard deviation for numerical features.This helps in understanding the central tendency and dispersion of the data. To further explore the data, histograms or density plots can be used for numerical features, while bar charts are suitable for visualizing categorical features. Correlation analysis, using Pearson or Spearman correlation coefficients, is conducted to identify relationships between numerical features and the target variable.\n",
    "\n",
    "For assessing feature relevance, statistical tests such as the Chi-square test are applied to evaluate the relationship between categorical features and the target variable. Additionally, feature importance analysis, often performed using tree-based models, helps in determining which features most significantly contribute to predicting the target variable.\n"
   ]
  },
  {
   "cell_type": "markdown",
   "metadata": {},
   "source": [
    "Distribution and Patterns:\n",
    "\n",
    "An analysis of class distribution involves examining the balance between the target classes, such as the proportion of stroke versus non-stroke cases. This is crucial for understanding how evenly the classes are represented in the dataset. Pattern detection focuses on identifying any notable trends in the data, such as variations in age distribution among stroke cases."
   ]
  },
  {
   "cell_type": "markdown",
   "metadata": {},
   "source": [
    "Data Splitting:\n",
    "\n",
    "To build and evaluate predictive models, the dataset is divided into training and testing sets. Typically, this involves splitting the data into 80% for training and 20% for testing. This separation allows for model training on one portion of the data while evaluating its performance on a separate, unseen portion.\n",
    "\n",
    "Data Preparation:\n",
    "\n",
    "Feature engineering involves creating new features or modifying existing ones to enhance model performance. For instance, age groups or BMI categories may be introduced to capture more nuanced information. Normalization or scaling techniques are applied to numerical features, such as standardizing age and glucose levels, to ensure that all features contribute equally to the model.\n",
    "\n",
    "Data Visualization:\n",
    "\n",
    "Visual exploration is a key part of data analysis, employing plots and charts such as scatter plots and box plots to visualize the relationships between features and the target variable. Heatmaps are also generated to visualize correlations between different features, providing insights into their interrelationships.\n",
    "\n",
    "Potential Challenges:\n",
    "\n",
    "One potential challenge is class imbalance, which may arise if there are significantly more non-stroke cases compared to stroke cases. Addressing this imbalance is important to avoid biased model predictions. Additionally, feature selection is crucial to identify and retain only the most relevant features, thereby reducing the risk of overfitting and enhancing model performance"
   ]
  },
  {
   "cell_type": "markdown",
   "metadata": {},
   "source": [
    "## Imporing libraries"
   ]
  },
  {
   "cell_type": "code",
   "execution_count": 1,
   "metadata": {},
   "outputs": [],
   "source": [
    "# for visualization\n",
    "import pandas as pd\n",
    "import numpy as np\n",
    "from IPython.display import display\n",
    "pd.plotting.register_matplotlib_converters()\n",
    "import seaborn as sns\n",
    "from scipy import stats\n",
    "import matplotlib.pyplot as plt\n",
    "%matplotlib inline\n",
    "# for modelling\n",
    "from sklearn.preprocessing import OneHotEncoder, LabelEncoder\n",
    "from sklearn.preprocessing import StandardScaler , MinMaxScaler\n",
    "from sklearn.linear_model import LogisticRegression\n",
    "from sklearn.model_selection import StratifiedShuffleSplit\n",
    "from sklearn.metrics import accuracy_score\n",
    "from sklearn.model_selection import train_test_split\n",
    "from sklearn.model_selection import KFold , StratifiedKFold , cross_val_score\n",
    "from sklearn.tree import DecisionTreeClassifier\n",
    "from sklearn.svm import SVC\n",
    "from sklearn.ensemble import RandomForestClassifier\n",
    "from imblearn.over_sampling import RandomOverSampler\n",
    "from imblearn.under_sampling import RandomUnderSampler\n",
    "\n",
    "\n",
    "import warnings\n",
    "warnings.filterwarnings('ignore')\n",
    "\n",
    "#display all column of df \n",
    "pd.set_option('display.max_columns', None)\n",
    "pd.set_option('display.max_rows', None)  "
   ]
  },
  {
   "cell_type": "code",
   "execution_count": 2,
   "metadata": {},
   "outputs": [
    {
     "data": {
      "text/plain": [
       "(5110, 11)"
      ]
     },
     "execution_count": 2,
     "metadata": {},
     "output_type": "execute_result"
    }
   ],
   "source": [
    "# loading the data\n",
    "df= pd.read_csv(\"data/stroke.csv\")\n",
    "df.drop([\"id\"] ,axis=1, inplace=True)\n",
    "df.shape"
   ]
  },
  {
   "cell_type": "code",
   "execution_count": 3,
   "metadata": {},
   "outputs": [
    {
     "data": {
      "text/html": [
       "<div>\n",
       "<style scoped>\n",
       "    .dataframe tbody tr th:only-of-type {\n",
       "        vertical-align: middle;\n",
       "    }\n",
       "\n",
       "    .dataframe tbody tr th {\n",
       "        vertical-align: top;\n",
       "    }\n",
       "\n",
       "    .dataframe thead th {\n",
       "        text-align: right;\n",
       "    }\n",
       "</style>\n",
       "<table border=\"1\" class=\"dataframe\">\n",
       "  <thead>\n",
       "    <tr style=\"text-align: right;\">\n",
       "      <th></th>\n",
       "      <th>gender</th>\n",
       "      <th>age</th>\n",
       "      <th>hypertension</th>\n",
       "      <th>heart_disease</th>\n",
       "      <th>ever_married</th>\n",
       "      <th>work_type</th>\n",
       "      <th>Residence_type</th>\n",
       "      <th>avg_glucose_level</th>\n",
       "      <th>bmi</th>\n",
       "      <th>smoking_status</th>\n",
       "      <th>stroke</th>\n",
       "    </tr>\n",
       "  </thead>\n",
       "  <tbody>\n",
       "    <tr>\n",
       "      <th>0</th>\n",
       "      <td>Male</td>\n",
       "      <td>67.0</td>\n",
       "      <td>0</td>\n",
       "      <td>1</td>\n",
       "      <td>Yes</td>\n",
       "      <td>Private</td>\n",
       "      <td>Urban</td>\n",
       "      <td>228.69</td>\n",
       "      <td>36.6</td>\n",
       "      <td>formerly smoked</td>\n",
       "      <td>1</td>\n",
       "    </tr>\n",
       "    <tr>\n",
       "      <th>1</th>\n",
       "      <td>Female</td>\n",
       "      <td>61.0</td>\n",
       "      <td>0</td>\n",
       "      <td>0</td>\n",
       "      <td>Yes</td>\n",
       "      <td>Self-employed</td>\n",
       "      <td>Rural</td>\n",
       "      <td>202.21</td>\n",
       "      <td>NaN</td>\n",
       "      <td>never smoked</td>\n",
       "      <td>1</td>\n",
       "    </tr>\n",
       "    <tr>\n",
       "      <th>2</th>\n",
       "      <td>Male</td>\n",
       "      <td>80.0</td>\n",
       "      <td>0</td>\n",
       "      <td>1</td>\n",
       "      <td>Yes</td>\n",
       "      <td>Private</td>\n",
       "      <td>Rural</td>\n",
       "      <td>105.92</td>\n",
       "      <td>32.5</td>\n",
       "      <td>never smoked</td>\n",
       "      <td>1</td>\n",
       "    </tr>\n",
       "    <tr>\n",
       "      <th>3</th>\n",
       "      <td>Female</td>\n",
       "      <td>49.0</td>\n",
       "      <td>0</td>\n",
       "      <td>0</td>\n",
       "      <td>Yes</td>\n",
       "      <td>Private</td>\n",
       "      <td>Urban</td>\n",
       "      <td>171.23</td>\n",
       "      <td>34.4</td>\n",
       "      <td>smokes</td>\n",
       "      <td>1</td>\n",
       "    </tr>\n",
       "    <tr>\n",
       "      <th>4</th>\n",
       "      <td>Female</td>\n",
       "      <td>79.0</td>\n",
       "      <td>1</td>\n",
       "      <td>0</td>\n",
       "      <td>Yes</td>\n",
       "      <td>Self-employed</td>\n",
       "      <td>Rural</td>\n",
       "      <td>174.12</td>\n",
       "      <td>24.0</td>\n",
       "      <td>never smoked</td>\n",
       "      <td>1</td>\n",
       "    </tr>\n",
       "  </tbody>\n",
       "</table>\n",
       "</div>"
      ],
      "text/plain": [
       "   gender   age  hypertension  heart_disease ever_married      work_type  \\\n",
       "0    Male  67.0             0              1          Yes        Private   \n",
       "1  Female  61.0             0              0          Yes  Self-employed   \n",
       "2    Male  80.0             0              1          Yes        Private   \n",
       "3  Female  49.0             0              0          Yes        Private   \n",
       "4  Female  79.0             1              0          Yes  Self-employed   \n",
       "\n",
       "  Residence_type  avg_glucose_level   bmi   smoking_status  stroke  \n",
       "0          Urban             228.69  36.6  formerly smoked       1  \n",
       "1          Rural             202.21   NaN     never smoked       1  \n",
       "2          Rural             105.92  32.5     never smoked       1  \n",
       "3          Urban             171.23  34.4           smokes       1  \n",
       "4          Rural             174.12  24.0     never smoked       1  "
      ]
     },
     "execution_count": 3,
     "metadata": {},
     "output_type": "execute_result"
    }
   ],
   "source": [
    "df.head()"
   ]
  },
  {
   "cell_type": "code",
   "execution_count": 4,
   "metadata": {},
   "outputs": [
    {
     "name": "stdout",
     "output_type": "stream",
     "text": [
      "<class 'pandas.core.frame.DataFrame'>\n",
      "RangeIndex: 5110 entries, 0 to 5109\n",
      "Data columns (total 11 columns):\n",
      " #   Column             Non-Null Count  Dtype  \n",
      "---  ------             --------------  -----  \n",
      " 0   gender             5110 non-null   object \n",
      " 1   age                5110 non-null   float64\n",
      " 2   hypertension       5110 non-null   int64  \n",
      " 3   heart_disease      5110 non-null   int64  \n",
      " 4   ever_married       5110 non-null   object \n",
      " 5   work_type          5110 non-null   object \n",
      " 6   Residence_type     5110 non-null   object \n",
      " 7   avg_glucose_level  5110 non-null   float64\n",
      " 8   bmi                4909 non-null   float64\n",
      " 9   smoking_status     5110 non-null   object \n",
      " 10  stroke             5110 non-null   int64  \n",
      "dtypes: float64(3), int64(3), object(5)\n",
      "memory usage: 439.3+ KB\n"
     ]
    }
   ],
   "source": [
    "df.info()"
   ]
  },
  {
   "cell_type": "code",
   "execution_count": 5,
   "metadata": {},
   "outputs": [
    {
     "data": {
      "text/html": [
       "<div>\n",
       "<style scoped>\n",
       "    .dataframe tbody tr th:only-of-type {\n",
       "        vertical-align: middle;\n",
       "    }\n",
       "\n",
       "    .dataframe tbody tr th {\n",
       "        vertical-align: top;\n",
       "    }\n",
       "\n",
       "    .dataframe thead th {\n",
       "        text-align: right;\n",
       "    }\n",
       "</style>\n",
       "<table border=\"1\" class=\"dataframe\">\n",
       "  <thead>\n",
       "    <tr style=\"text-align: right;\">\n",
       "      <th></th>\n",
       "      <th>count</th>\n",
       "      <th>unique</th>\n",
       "      <th>top</th>\n",
       "      <th>freq</th>\n",
       "    </tr>\n",
       "  </thead>\n",
       "  <tbody>\n",
       "    <tr>\n",
       "      <th>gender</th>\n",
       "      <td>5110</td>\n",
       "      <td>3</td>\n",
       "      <td>Female</td>\n",
       "      <td>2994</td>\n",
       "    </tr>\n",
       "    <tr>\n",
       "      <th>ever_married</th>\n",
       "      <td>5110</td>\n",
       "      <td>2</td>\n",
       "      <td>Yes</td>\n",
       "      <td>3353</td>\n",
       "    </tr>\n",
       "    <tr>\n",
       "      <th>work_type</th>\n",
       "      <td>5110</td>\n",
       "      <td>5</td>\n",
       "      <td>Private</td>\n",
       "      <td>2925</td>\n",
       "    </tr>\n",
       "    <tr>\n",
       "      <th>Residence_type</th>\n",
       "      <td>5110</td>\n",
       "      <td>2</td>\n",
       "      <td>Urban</td>\n",
       "      <td>2596</td>\n",
       "    </tr>\n",
       "    <tr>\n",
       "      <th>smoking_status</th>\n",
       "      <td>5110</td>\n",
       "      <td>4</td>\n",
       "      <td>never smoked</td>\n",
       "      <td>1892</td>\n",
       "    </tr>\n",
       "  </tbody>\n",
       "</table>\n",
       "</div>"
      ],
      "text/plain": [
       "               count unique           top  freq\n",
       "gender          5110      3        Female  2994\n",
       "ever_married    5110      2           Yes  3353\n",
       "work_type       5110      5       Private  2925\n",
       "Residence_type  5110      2         Urban  2596\n",
       "smoking_status  5110      4  never smoked  1892"
      ]
     },
     "execution_count": 5,
     "metadata": {},
     "output_type": "execute_result"
    }
   ],
   "source": [
    "# Checking for the summary of categorical (object type) features in a pd df\n",
    "# .T attribute transposes the resulting summary statistics df\n",
    "df.describe(include=\"O\").T"
   ]
  },
  {
   "cell_type": "code",
   "execution_count": 6,
   "metadata": {},
   "outputs": [
    {
     "data": {
      "text/html": [
       "<div>\n",
       "<style scoped>\n",
       "    .dataframe tbody tr th:only-of-type {\n",
       "        vertical-align: middle;\n",
       "    }\n",
       "\n",
       "    .dataframe tbody tr th {\n",
       "        vertical-align: top;\n",
       "    }\n",
       "\n",
       "    .dataframe thead th {\n",
       "        text-align: right;\n",
       "    }\n",
       "</style>\n",
       "<table border=\"1\" class=\"dataframe\">\n",
       "  <thead>\n",
       "    <tr style=\"text-align: right;\">\n",
       "      <th></th>\n",
       "      <th>count</th>\n",
       "      <th>mean</th>\n",
       "      <th>std</th>\n",
       "      <th>min</th>\n",
       "      <th>25%</th>\n",
       "      <th>50%</th>\n",
       "      <th>75%</th>\n",
       "      <th>max</th>\n",
       "    </tr>\n",
       "  </thead>\n",
       "  <tbody>\n",
       "    <tr>\n",
       "      <th>age</th>\n",
       "      <td>5110.0</td>\n",
       "      <td>43.226614</td>\n",
       "      <td>22.612647</td>\n",
       "      <td>0.08</td>\n",
       "      <td>25.000</td>\n",
       "      <td>45.000</td>\n",
       "      <td>61.00</td>\n",
       "      <td>82.00</td>\n",
       "    </tr>\n",
       "    <tr>\n",
       "      <th>hypertension</th>\n",
       "      <td>5110.0</td>\n",
       "      <td>0.097456</td>\n",
       "      <td>0.296607</td>\n",
       "      <td>0.00</td>\n",
       "      <td>0.000</td>\n",
       "      <td>0.000</td>\n",
       "      <td>0.00</td>\n",
       "      <td>1.00</td>\n",
       "    </tr>\n",
       "    <tr>\n",
       "      <th>heart_disease</th>\n",
       "      <td>5110.0</td>\n",
       "      <td>0.054012</td>\n",
       "      <td>0.226063</td>\n",
       "      <td>0.00</td>\n",
       "      <td>0.000</td>\n",
       "      <td>0.000</td>\n",
       "      <td>0.00</td>\n",
       "      <td>1.00</td>\n",
       "    </tr>\n",
       "    <tr>\n",
       "      <th>avg_glucose_level</th>\n",
       "      <td>5110.0</td>\n",
       "      <td>106.147677</td>\n",
       "      <td>45.283560</td>\n",
       "      <td>55.12</td>\n",
       "      <td>77.245</td>\n",
       "      <td>91.885</td>\n",
       "      <td>114.09</td>\n",
       "      <td>271.74</td>\n",
       "    </tr>\n",
       "    <tr>\n",
       "      <th>bmi</th>\n",
       "      <td>4909.0</td>\n",
       "      <td>28.893237</td>\n",
       "      <td>7.854067</td>\n",
       "      <td>10.30</td>\n",
       "      <td>23.500</td>\n",
       "      <td>28.100</td>\n",
       "      <td>33.10</td>\n",
       "      <td>97.60</td>\n",
       "    </tr>\n",
       "    <tr>\n",
       "      <th>stroke</th>\n",
       "      <td>5110.0</td>\n",
       "      <td>0.048728</td>\n",
       "      <td>0.215320</td>\n",
       "      <td>0.00</td>\n",
       "      <td>0.000</td>\n",
       "      <td>0.000</td>\n",
       "      <td>0.00</td>\n",
       "      <td>1.00</td>\n",
       "    </tr>\n",
       "  </tbody>\n",
       "</table>\n",
       "</div>"
      ],
      "text/plain": [
       "                    count        mean        std    min     25%     50%  \\\n",
       "age                5110.0   43.226614  22.612647   0.08  25.000  45.000   \n",
       "hypertension       5110.0    0.097456   0.296607   0.00   0.000   0.000   \n",
       "heart_disease      5110.0    0.054012   0.226063   0.00   0.000   0.000   \n",
       "avg_glucose_level  5110.0  106.147677  45.283560  55.12  77.245  91.885   \n",
       "bmi                4909.0   28.893237   7.854067  10.30  23.500  28.100   \n",
       "stroke             5110.0    0.048728   0.215320   0.00   0.000   0.000   \n",
       "\n",
       "                      75%     max  \n",
       "age                 61.00   82.00  \n",
       "hypertension         0.00    1.00  \n",
       "heart_disease        0.00    1.00  \n",
       "avg_glucose_level  114.09  271.74  \n",
       "bmi                 33.10   97.60  \n",
       "stroke               0.00    1.00  "
      ]
     },
     "execution_count": 6,
     "metadata": {},
     "output_type": "execute_result"
    }
   ],
   "source": [
    "# for the numerical feature\n",
    "df.describe().T\n"
   ]
  },
  {
   "cell_type": "markdown",
   "metadata": {},
   "source": [
    "## Explanatory data analysis\n",
    "We have two types of features , the categorical and numerical feature we'll deal with each group alone.\n",
    "\n",
    "### Categorical features\n",
    "#### Univariate analysis\n"
   ]
  },
  {
   "cell_type": "code",
   "execution_count": 7,
   "metadata": {},
   "outputs": [
    {
     "data": {
      "text/plain": [
       "['gender',\n",
       " 'ever_married',\n",
       " 'work_type',\n",
       " 'Residence_type',\n",
       " 'smoking_status',\n",
       " 'stroke',\n",
       " 'hypertension',\n",
       " 'heart_disease']"
      ]
     },
     "execution_count": 7,
     "metadata": {},
     "output_type": "execute_result"
    }
   ],
   "source": [
    "cat = list(df.select_dtypes(include='O').columns) + [\"stroke\" , \"hypertension\" , \"heart_disease\"]\n",
    "cat"
   ]
  },
  {
   "cell_type": "code",
   "execution_count": 8,
   "metadata": {},
   "outputs": [],
   "source": [
    "# Convert specified columns in the 'cat' list to 'object' type for categorical processing.\n",
    "# Then, remove 'stroke' from the list of categorical columns, possibly because it requires different handling or is not categorical.\n",
    "df[cat] = df[cat].astype('object')\n",
    "cat.remove('stroke')"
   ]
  },
  {
   "cell_type": "code",
   "execution_count": 9,
   "metadata": {},
   "outputs": [
    {
     "data": {
      "text/plain": [
       "gender\n",
       "Female    0.585910\n",
       "Male      0.413894\n",
       "Other     0.000196\n",
       "Name: proportion, dtype: float64"
      ]
     },
     "metadata": {},
     "output_type": "display_data"
    },
    {
     "name": "stdout",
     "output_type": "stream",
     "text": [
      "####################\n"
     ]
    },
    {
     "data": {
      "text/plain": [
       "ever_married\n",
       "Yes    0.656164\n",
       "No     0.343836\n",
       "Name: proportion, dtype: float64"
      ]
     },
     "metadata": {},
     "output_type": "display_data"
    },
    {
     "name": "stdout",
     "output_type": "stream",
     "text": [
      "####################\n"
     ]
    },
    {
     "data": {
      "text/plain": [
       "work_type\n",
       "Private          0.572407\n",
       "Self-employed    0.160274\n",
       "children         0.134442\n",
       "Govt_job         0.128571\n",
       "Never_worked     0.004305\n",
       "Name: proportion, dtype: float64"
      ]
     },
     "metadata": {},
     "output_type": "display_data"
    },
    {
     "name": "stdout",
     "output_type": "stream",
     "text": [
      "####################\n"
     ]
    },
    {
     "data": {
      "text/plain": [
       "Residence_type\n",
       "Urban    0.508023\n",
       "Rural    0.491977\n",
       "Name: proportion, dtype: float64"
      ]
     },
     "metadata": {},
     "output_type": "display_data"
    },
    {
     "name": "stdout",
     "output_type": "stream",
     "text": [
      "####################\n"
     ]
    },
    {
     "data": {
      "text/plain": [
       "smoking_status\n",
       "never smoked       0.370254\n",
       "Unknown            0.302153\n",
       "formerly smoked    0.173190\n",
       "smokes             0.154403\n",
       "Name: proportion, dtype: float64"
      ]
     },
     "metadata": {},
     "output_type": "display_data"
    },
    {
     "name": "stdout",
     "output_type": "stream",
     "text": [
      "####################\n"
     ]
    },
    {
     "data": {
      "text/plain": [
       "hypertension\n",
       "0    0.902544\n",
       "1    0.097456\n",
       "Name: proportion, dtype: float64"
      ]
     },
     "metadata": {},
     "output_type": "display_data"
    },
    {
     "name": "stdout",
     "output_type": "stream",
     "text": [
      "####################\n"
     ]
    },
    {
     "data": {
      "text/plain": [
       "heart_disease\n",
       "0    0.945988\n",
       "1    0.054012\n",
       "Name: proportion, dtype: float64"
      ]
     },
     "metadata": {},
     "output_type": "display_data"
    },
    {
     "name": "stdout",
     "output_type": "stream",
     "text": [
      "####################\n"
     ]
    }
   ],
   "source": [
    "# Iterate over each column in the 'cat' list, display the relative frequencies of unique values for each column,\n",
    "\n",
    "for i in cat:\n",
    "    display(df[i].value_counts(normalize=True))\n",
    "    print(\"#\"*20) # and print a separator line for clarity between the outputs.\n"
   ]
  },
  {
   "cell_type": "markdown",
   "metadata": {},
   "source": [
    "We will calculate and display the proportion of each unique value in the 'stroke' column\n"
   ]
  },
  {
   "cell_type": "code",
   "execution_count": 10,
   "metadata": {},
   "outputs": [
    {
     "data": {
      "text/plain": [
       "stroke\n",
       "0    0.951272\n",
       "1    0.048728\n",
       "Name: proportion, dtype: float64"
      ]
     },
     "execution_count": 10,
     "metadata": {},
     "output_type": "execute_result"
    }
   ],
   "source": [
    "# Calculate and display the proportion of each unique value in the 'stroke' column\n",
    "df['stroke'].value_counts(normalize=True)\n"
   ]
  },
  {
   "cell_type": "markdown",
   "metadata": {},
   "source": [
    "We will calculate the mean value of the 'stroke' column, rounded to 3 decimal places\n"
   ]
  },
  {
   "cell_type": "code",
   "execution_count": 11,
   "metadata": {},
   "outputs": [
    {
     "data": {
      "text/plain": [
       "0.049"
      ]
     },
     "execution_count": 11,
     "metadata": {},
     "output_type": "execute_result"
    }
   ],
   "source": [
    "# stroke mean\n",
    "stroke_mean = round(df['stroke'].mean() ,3)\n",
    "stroke_mean # imbalance"
   ]
  },
  {
   "cell_type": "code",
   "execution_count": 12,
   "metadata": {},
   "outputs": [
    {
     "ename": "AttributeError",
     "evalue": "'int' object has no attribute 'startswith'",
     "output_type": "error",
     "traceback": [
      "\u001b[1;31m---------------------------------------------------------------------------\u001b[0m",
      "\u001b[1;31mAttributeError\u001b[0m                            Traceback (most recent call last)",
      "Cell \u001b[1;32mIn[12], line 10\u001b[0m\n\u001b[0;32m      8\u001b[0m row \u001b[38;5;241m=\u001b[39m i\u001b[38;5;241m/\u001b[39m\u001b[38;5;241m/\u001b[39m\u001b[38;5;241m2\u001b[39m\n\u001b[0;32m      9\u001b[0m col \u001b[38;5;241m=\u001b[39m i \u001b[38;5;241m%\u001b[39m \u001b[38;5;241m2\u001b[39m\n\u001b[1;32m---> 10\u001b[0m bp \u001b[38;5;241m=\u001b[39m sns\u001b[38;5;241m.\u001b[39mcountplot(ax\u001b[38;5;241m=\u001b[39maxis[row, col], x\u001b[38;5;241m=\u001b[39mdf[column_name] , hue\u001b[38;5;241m=\u001b[39mdf[column_name]) \n\u001b[0;32m     11\u001b[0m bp\u001b[38;5;241m.\u001b[39mset(xticklabels\u001b[38;5;241m=\u001b[39m[])\n\u001b[0;32m     12\u001b[0m \u001b[38;5;66;03m#bp.set_xticklabels(bp.get_xticklabels(), rotation=90, size = 7)\u001b[39;00m\n",
      "File \u001b[1;32mc:\\Users\\DELL\\anaconda3\\Lib\\site-packages\\seaborn\\categorical.py:2955\u001b[0m, in \u001b[0;36mcountplot\u001b[1;34m(data, x, y, hue, order, hue_order, orient, color, palette, saturation, width, dodge, ax, **kwargs)\u001b[0m\n\u001b[0;32m   2952\u001b[0m \u001b[38;5;28;01mif\u001b[39;00m ax \u001b[38;5;129;01mis\u001b[39;00m \u001b[38;5;28;01mNone\u001b[39;00m:\n\u001b[0;32m   2953\u001b[0m     ax \u001b[38;5;241m=\u001b[39m plt\u001b[38;5;241m.\u001b[39mgca()\n\u001b[1;32m-> 2955\u001b[0m plotter\u001b[38;5;241m.\u001b[39mplot(ax, kwargs)\n\u001b[0;32m   2956\u001b[0m \u001b[38;5;28;01mreturn\u001b[39;00m ax\n",
      "File \u001b[1;32mc:\\Users\\DELL\\anaconda3\\Lib\\site-packages\\seaborn\\categorical.py:1587\u001b[0m, in \u001b[0;36m_BarPlotter.plot\u001b[1;34m(self, ax, bar_kws)\u001b[0m\n\u001b[0;32m   1585\u001b[0m \u001b[38;5;250m\u001b[39m\u001b[38;5;124;03m\"\"\"Make the plot.\"\"\"\u001b[39;00m\n\u001b[0;32m   1586\u001b[0m \u001b[38;5;28mself\u001b[39m\u001b[38;5;241m.\u001b[39mdraw_bars(ax, bar_kws)\n\u001b[1;32m-> 1587\u001b[0m \u001b[38;5;28mself\u001b[39m\u001b[38;5;241m.\u001b[39mannotate_axes(ax)\n\u001b[0;32m   1588\u001b[0m \u001b[38;5;28;01mif\u001b[39;00m \u001b[38;5;28mself\u001b[39m\u001b[38;5;241m.\u001b[39morient \u001b[38;5;241m==\u001b[39m \u001b[38;5;124m\"\u001b[39m\u001b[38;5;124mh\u001b[39m\u001b[38;5;124m\"\u001b[39m:\n\u001b[0;32m   1589\u001b[0m     ax\u001b[38;5;241m.\u001b[39minvert_yaxis()\n",
      "File \u001b[1;32mc:\\Users\\DELL\\anaconda3\\Lib\\site-packages\\seaborn\\categorical.py:767\u001b[0m, in \u001b[0;36m_CategoricalPlotter.annotate_axes\u001b[1;34m(self, ax)\u001b[0m\n\u001b[0;32m    764\u001b[0m     ax\u001b[38;5;241m.\u001b[39mset_ylim(\u001b[38;5;241m-\u001b[39m\u001b[38;5;241m.5\u001b[39m, \u001b[38;5;28mlen\u001b[39m(\u001b[38;5;28mself\u001b[39m\u001b[38;5;241m.\u001b[39mplot_data) \u001b[38;5;241m-\u001b[39m \u001b[38;5;241m.5\u001b[39m, auto\u001b[38;5;241m=\u001b[39m\u001b[38;5;28;01mNone\u001b[39;00m)\n\u001b[0;32m    766\u001b[0m \u001b[38;5;28;01mif\u001b[39;00m \u001b[38;5;28mself\u001b[39m\u001b[38;5;241m.\u001b[39mhue_names \u001b[38;5;129;01mis\u001b[39;00m \u001b[38;5;129;01mnot\u001b[39;00m \u001b[38;5;28;01mNone\u001b[39;00m:\n\u001b[1;32m--> 767\u001b[0m     ax\u001b[38;5;241m.\u001b[39mlegend(loc\u001b[38;5;241m=\u001b[39m\u001b[38;5;124m\"\u001b[39m\u001b[38;5;124mbest\u001b[39m\u001b[38;5;124m\"\u001b[39m, title\u001b[38;5;241m=\u001b[39m\u001b[38;5;28mself\u001b[39m\u001b[38;5;241m.\u001b[39mhue_title)\n",
      "File \u001b[1;32mc:\\Users\\DELL\\anaconda3\\Lib\\site-packages\\matplotlib\\axes\\_axes.py:322\u001b[0m, in \u001b[0;36mAxes.legend\u001b[1;34m(self, *args, **kwargs)\u001b[0m\n\u001b[0;32m    204\u001b[0m \u001b[38;5;129m@_docstring\u001b[39m\u001b[38;5;241m.\u001b[39mdedent_interpd\n\u001b[0;32m    205\u001b[0m \u001b[38;5;28;01mdef\u001b[39;00m \u001b[38;5;21mlegend\u001b[39m(\u001b[38;5;28mself\u001b[39m, \u001b[38;5;241m*\u001b[39margs, \u001b[38;5;241m*\u001b[39m\u001b[38;5;241m*\u001b[39mkwargs):\n\u001b[0;32m    206\u001b[0m \u001b[38;5;250m    \u001b[39m\u001b[38;5;124;03m\"\"\"\u001b[39;00m\n\u001b[0;32m    207\u001b[0m \u001b[38;5;124;03m    Place a legend on the Axes.\u001b[39;00m\n\u001b[0;32m    208\u001b[0m \n\u001b[1;32m   (...)\u001b[0m\n\u001b[0;32m    320\u001b[0m \u001b[38;5;124;03m    .. plot:: gallery/text_labels_and_annotations/legend.py\u001b[39;00m\n\u001b[0;32m    321\u001b[0m \u001b[38;5;124;03m    \"\"\"\u001b[39;00m\n\u001b[1;32m--> 322\u001b[0m     handles, labels, kwargs \u001b[38;5;241m=\u001b[39m mlegend\u001b[38;5;241m.\u001b[39m_parse_legend_args([\u001b[38;5;28mself\u001b[39m], \u001b[38;5;241m*\u001b[39margs, \u001b[38;5;241m*\u001b[39m\u001b[38;5;241m*\u001b[39mkwargs)\n\u001b[0;32m    323\u001b[0m     \u001b[38;5;28mself\u001b[39m\u001b[38;5;241m.\u001b[39mlegend_ \u001b[38;5;241m=\u001b[39m mlegend\u001b[38;5;241m.\u001b[39mLegend(\u001b[38;5;28mself\u001b[39m, handles, labels, \u001b[38;5;241m*\u001b[39m\u001b[38;5;241m*\u001b[39mkwargs)\n\u001b[0;32m    324\u001b[0m     \u001b[38;5;28mself\u001b[39m\u001b[38;5;241m.\u001b[39mlegend_\u001b[38;5;241m.\u001b[39m_remove_method \u001b[38;5;241m=\u001b[39m \u001b[38;5;28mself\u001b[39m\u001b[38;5;241m.\u001b[39m_remove_legend\n",
      "File \u001b[1;32mc:\\Users\\DELL\\anaconda3\\Lib\\site-packages\\matplotlib\\legend.py:1361\u001b[0m, in \u001b[0;36m_parse_legend_args\u001b[1;34m(axs, handles, labels, *args, **kwargs)\u001b[0m\n\u001b[0;32m   1357\u001b[0m     handles \u001b[38;5;241m=\u001b[39m [handle \u001b[38;5;28;01mfor\u001b[39;00m handle, label\n\u001b[0;32m   1358\u001b[0m                \u001b[38;5;129;01min\u001b[39;00m \u001b[38;5;28mzip\u001b[39m(_get_legend_handles(axs, handlers), labels)]\n\u001b[0;32m   1360\u001b[0m \u001b[38;5;28;01melif\u001b[39;00m \u001b[38;5;28mlen\u001b[39m(args) \u001b[38;5;241m==\u001b[39m \u001b[38;5;241m0\u001b[39m:  \u001b[38;5;66;03m# 0 args: automatically detect labels and handles.\u001b[39;00m\n\u001b[1;32m-> 1361\u001b[0m     handles, labels \u001b[38;5;241m=\u001b[39m _get_legend_handles_labels(axs, handlers)\n\u001b[0;32m   1362\u001b[0m     \u001b[38;5;28;01mif\u001b[39;00m \u001b[38;5;129;01mnot\u001b[39;00m handles:\n\u001b[0;32m   1363\u001b[0m         log\u001b[38;5;241m.\u001b[39mwarning(\n\u001b[0;32m   1364\u001b[0m             \u001b[38;5;124m\"\u001b[39m\u001b[38;5;124mNo artists with labels found to put in legend.  Note that \u001b[39m\u001b[38;5;124m\"\u001b[39m\n\u001b[0;32m   1365\u001b[0m             \u001b[38;5;124m\"\u001b[39m\u001b[38;5;124martists whose label start with an underscore are ignored \u001b[39m\u001b[38;5;124m\"\u001b[39m\n\u001b[0;32m   1366\u001b[0m             \u001b[38;5;124m\"\u001b[39m\u001b[38;5;124mwhen legend() is called with no argument.\u001b[39m\u001b[38;5;124m\"\u001b[39m)\n",
      "File \u001b[1;32mc:\\Users\\DELL\\anaconda3\\Lib\\site-packages\\matplotlib\\legend.py:1291\u001b[0m, in \u001b[0;36m_get_legend_handles_labels\u001b[1;34m(axs, legend_handler_map)\u001b[0m\n\u001b[0;32m   1289\u001b[0m \u001b[38;5;28;01mfor\u001b[39;00m handle \u001b[38;5;129;01min\u001b[39;00m _get_legend_handles(axs, legend_handler_map):\n\u001b[0;32m   1290\u001b[0m     label \u001b[38;5;241m=\u001b[39m handle\u001b[38;5;241m.\u001b[39mget_label()\n\u001b[1;32m-> 1291\u001b[0m     \u001b[38;5;28;01mif\u001b[39;00m label \u001b[38;5;129;01mand\u001b[39;00m \u001b[38;5;129;01mnot\u001b[39;00m label\u001b[38;5;241m.\u001b[39mstartswith(\u001b[38;5;124m'\u001b[39m\u001b[38;5;124m_\u001b[39m\u001b[38;5;124m'\u001b[39m):\n\u001b[0;32m   1292\u001b[0m         handles\u001b[38;5;241m.\u001b[39mappend(handle)\n\u001b[0;32m   1293\u001b[0m         labels\u001b[38;5;241m.\u001b[39mappend(label)\n",
      "\u001b[1;31mAttributeError\u001b[0m: 'int' object has no attribute 'startswith'"
     ]
    },
    {
     "data": {
      "image/png": "[encoded data removed]",
      "text/plain": [
       "<Figure size 1000x1500 with 8 Axes>"
      ]
     },
     "metadata": {},
     "output_type": "display_data"
    }
   ],
   "source": [
    "# Creating a 4x2 grid of subplots with adjusted spacing\n",
    "\n",
    "\n",
    "figure, axis = plt.subplots(4, 2, figsize=(10, 15))\n",
    "plt.subplots_adjust(hspace=0.25, wspace=0.3)\n",
    "\n",
    "for i, column_name in enumerate(cat+['stroke']):\n",
    "    row = i//2\n",
    "    col = i % 2\n",
    "    bp = sns.countplot(ax=axis[row, col], x=df[column_name] , hue=df[column_name]) \n",
    "    bp.set(xticklabels=[])\n",
    "    #bp.set_xticklabels(bp.get_xticklabels(), rotation=90, size = 7)\n",
    "    axis[row, col].set_title(column_name)\n",
    "plt.show()"
   ]
  },
  {
   "cell_type": "code",
   "execution_count": null,
   "metadata": {},
   "outputs": [
    {
     "data": {
      "image/png": "[encoded data removed]",
      "text/plain": [
       "<Figure size 1000x1500 with 8 Axes>"
      ]
     },
     "metadata": {},
     "output_type": "display_data"
    }
   ],
   "source": [
    "figure, axis = plt.subplots(4, 2, figsize=(10, 15))\n",
    "plt.subplots_adjust(hspace=0.25, wspace=0.3)\n",
    "\n",
    "for i, column_name in enumerate(cat+['stroke']):\n",
    "    row = i//2\n",
    "    col = i % 2\n",
    "    # Remove the hue parameter if it is causing issues\n",
    "    bp = sns.countplot(ax=axis[row, col], x=df[column_name])\n",
    "    bp.set(xticklabels=[]) # Remove x-axis tick labels\n",
    "    # bp.set_xticklabels(bp.get_xticklabels(), rotation=90, size = 7)\n",
    "    axis[row, col].set_title(column_name)\n",
    "plt.show()\n"
   ]
  },
  {
   "cell_type": "code",
   "execution_count": null,
   "metadata": {},
   "outputs": [
    {
     "data": {
      "text/plain": [
       "gender\n",
       "Female    2994\n",
       "Male      2115\n",
       "Other        1\n",
       "Name: count, dtype: int64"
      ]
     },
     "execution_count": 17,
     "metadata": {},
     "output_type": "execute_result"
    }
   ],
   "source": [
    "# checking the gender column\n",
    "# Gender\n",
    "df['gender'].value_counts()"
   ]
  },
  {
   "cell_type": "code",
   "execution_count": null,
   "metadata": {},
   "outputs": [],
   "source": [
    "# drop the incetences with 'other' in gender\n",
    "df.drop(df[df['gender'] == \"Other\"].index , axis = 0 , inplace = True)"
   ]
  },
  {
   "cell_type": "code",
   "execution_count": null,
   "metadata": {},
   "outputs": [],
   "source": [
    "# treating unknown inctences as NaN's\n",
    "df.drop(df[df['smoking_status'] == 'Unknown'].index ,axis=0 , inplace=True)"
   ]
  },
  {
   "cell_type": "markdown",
   "metadata": {},
   "source": [
    "### Bivariate Analysis\n",
    "We start by creating contingency tables"
   ]
  },
  {
   "cell_type": "code",
   "execution_count": null,
   "metadata": {},
   "outputs": [
    {
     "data": {
      "text/html": [
       "<div>\n",
       "<style scoped>\n",
       "    .dataframe tbody tr th:only-of-type {\n",
       "        vertical-align: middle;\n",
       "    }\n",
       "\n",
       "    .dataframe tbody tr th {\n",
       "        vertical-align: top;\n",
       "    }\n",
       "\n",
       "    .dataframe thead th {\n",
       "        text-align: right;\n",
       "    }\n",
       "</style>\n",
       "<table border=\"1\" class=\"dataframe\">\n",
       "  <thead>\n",
       "    <tr style=\"text-align: right;\">\n",
       "      <th>stroke</th>\n",
       "      <th>0</th>\n",
       "      <th>1</th>\n",
       "      <th>Total</th>\n",
       "    </tr>\n",
       "    <tr>\n",
       "      <th>gender</th>\n",
       "      <th></th>\n",
       "      <th></th>\n",
       "      <th></th>\n",
       "    </tr>\n",
       "  </thead>\n",
       "  <tbody>\n",
       "    <tr>\n",
       "      <th>Female</th>\n",
       "      <td>0.572791</td>\n",
       "      <td>0.032539</td>\n",
       "      <td>0.60533</td>\n",
       "    </tr>\n",
       "    <tr>\n",
       "      <th>Male</th>\n",
       "      <td>0.370547</td>\n",
       "      <td>0.024123</td>\n",
       "      <td>0.39467</td>\n",
       "    </tr>\n",
       "    <tr>\n",
       "      <th>Total</th>\n",
       "      <td>0.943338</td>\n",
       "      <td>0.056662</td>\n",
       "      <td>1.00000</td>\n",
       "    </tr>\n",
       "  </tbody>\n",
       "</table>\n",
       "</div>"
      ],
      "text/plain": [
       "stroke         0         1    Total\n",
       "gender                             \n",
       "Female  0.572791  0.032539  0.60533\n",
       "Male    0.370547  0.024123  0.39467\n",
       "Total   0.943338  0.056662  1.00000"
      ]
     },
     "metadata": {},
     "output_type": "display_data"
    },
    {
     "data": {
      "text/html": [
       "<div>\n",
       "<style scoped>\n",
       "    .dataframe tbody tr th:only-of-type {\n",
       "        vertical-align: middle;\n",
       "    }\n",
       "\n",
       "    .dataframe tbody tr th {\n",
       "        vertical-align: top;\n",
       "    }\n",
       "\n",
       "    .dataframe thead th {\n",
       "        text-align: right;\n",
       "    }\n",
       "</style>\n",
       "<table border=\"1\" class=\"dataframe\">\n",
       "  <thead>\n",
       "    <tr style=\"text-align: right;\">\n",
       "      <th>stroke</th>\n",
       "      <th>0</th>\n",
       "      <th>1</th>\n",
       "      <th>Total</th>\n",
       "    </tr>\n",
       "    <tr>\n",
       "      <th>ever_married</th>\n",
       "      <th></th>\n",
       "      <th></th>\n",
       "      <th></th>\n",
       "    </tr>\n",
       "  </thead>\n",
       "  <tbody>\n",
       "    <tr>\n",
       "      <th>No</th>\n",
       "      <td>0.233941</td>\n",
       "      <td>0.005891</td>\n",
       "      <td>0.239832</td>\n",
       "    </tr>\n",
       "    <tr>\n",
       "      <th>Yes</th>\n",
       "      <td>0.709397</td>\n",
       "      <td>0.050771</td>\n",
       "      <td>0.760168</td>\n",
       "    </tr>\n",
       "    <tr>\n",
       "      <th>Total</th>\n",
       "      <td>0.943338</td>\n",
       "      <td>0.056662</td>\n",
       "      <td>1.000000</td>\n",
       "    </tr>\n",
       "  </tbody>\n",
       "</table>\n",
       "</div>"
      ],
      "text/plain": [
       "stroke               0         1     Total\n",
       "ever_married                              \n",
       "No            0.233941  0.005891  0.239832\n",
       "Yes           0.709397  0.050771  0.760168\n",
       "Total         0.943338  0.056662  1.000000"
      ]
     },
     "metadata": {},
     "output_type": "display_data"
    },
    {
     "data": {
      "text/html": [
       "<div>\n",
       "<style scoped>\n",
       "    .dataframe tbody tr th:only-of-type {\n",
       "        vertical-align: middle;\n",
       "    }\n",
       "\n",
       "    .dataframe tbody tr th {\n",
       "        vertical-align: top;\n",
       "    }\n",
       "\n",
       "    .dataframe thead th {\n",
       "        text-align: right;\n",
       "    }\n",
       "</style>\n",
       "<table border=\"1\" class=\"dataframe\">\n",
       "  <thead>\n",
       "    <tr style=\"text-align: right;\">\n",
       "      <th>stroke</th>\n",
       "      <th>0</th>\n",
       "      <th>1</th>\n",
       "      <th>Total</th>\n",
       "    </tr>\n",
       "    <tr>\n",
       "      <th>work_type</th>\n",
       "      <th></th>\n",
       "      <th></th>\n",
       "      <th></th>\n",
       "    </tr>\n",
       "  </thead>\n",
       "  <tbody>\n",
       "    <tr>\n",
       "      <th>Govt_job</th>\n",
       "      <td>0.143058</td>\n",
       "      <td>0.007013</td>\n",
       "      <td>0.150070</td>\n",
       "    </tr>\n",
       "    <tr>\n",
       "      <th>Never_worked</th>\n",
       "      <td>0.003927</td>\n",
       "      <td>0.000000</td>\n",
       "      <td>0.003927</td>\n",
       "    </tr>\n",
       "    <tr>\n",
       "      <th>Private</th>\n",
       "      <td>0.607013</td>\n",
       "      <td>0.033661</td>\n",
       "      <td>0.640673</td>\n",
       "    </tr>\n",
       "    <tr>\n",
       "      <th>Self-employed</th>\n",
       "      <td>0.169986</td>\n",
       "      <td>0.015989</td>\n",
       "      <td>0.185975</td>\n",
       "    </tr>\n",
       "    <tr>\n",
       "      <th>children</th>\n",
       "      <td>0.019355</td>\n",
       "      <td>0.000000</td>\n",
       "      <td>0.019355</td>\n",
       "    </tr>\n",
       "    <tr>\n",
       "      <th>Total</th>\n",
       "      <td>0.943338</td>\n",
       "      <td>0.056662</td>\n",
       "      <td>1.000000</td>\n",
       "    </tr>\n",
       "  </tbody>\n",
       "</table>\n",
       "</div>"
      ],
      "text/plain": [
       "stroke                0         1     Total\n",
       "work_type                                  \n",
       "Govt_job       0.143058  0.007013  0.150070\n",
       "Never_worked   0.003927  0.000000  0.003927\n",
       "Private        0.607013  0.033661  0.640673\n",
       "Self-employed  0.169986  0.015989  0.185975\n",
       "children       0.019355  0.000000  0.019355\n",
       "Total          0.943338  0.056662  1.000000"
      ]
     },
     "metadata": {},
     "output_type": "display_data"
    },
    {
     "data": {
      "text/html": [
       "<div>\n",
       "<style scoped>\n",
       "    .dataframe tbody tr th:only-of-type {\n",
       "        vertical-align: middle;\n",
       "    }\n",
       "\n",
       "    .dataframe tbody tr th {\n",
       "        vertical-align: top;\n",
       "    }\n",
       "\n",
       "    .dataframe thead th {\n",
       "        text-align: right;\n",
       "    }\n",
       "</style>\n",
       "<table border=\"1\" class=\"dataframe\">\n",
       "  <thead>\n",
       "    <tr style=\"text-align: right;\">\n",
       "      <th>stroke</th>\n",
       "      <th>0</th>\n",
       "      <th>1</th>\n",
       "      <th>Total</th>\n",
       "    </tr>\n",
       "    <tr>\n",
       "      <th>Residence_type</th>\n",
       "      <th></th>\n",
       "      <th></th>\n",
       "      <th></th>\n",
       "    </tr>\n",
       "  </thead>\n",
       "  <tbody>\n",
       "    <tr>\n",
       "      <th>Rural</th>\n",
       "      <td>0.464236</td>\n",
       "      <td>0.026928</td>\n",
       "      <td>0.491164</td>\n",
       "    </tr>\n",
       "    <tr>\n",
       "      <th>Urban</th>\n",
       "      <td>0.479102</td>\n",
       "      <td>0.029734</td>\n",
       "      <td>0.508836</td>\n",
       "    </tr>\n",
       "    <tr>\n",
       "      <th>Total</th>\n",
       "      <td>0.943338</td>\n",
       "      <td>0.056662</td>\n",
       "      <td>1.000000</td>\n",
       "    </tr>\n",
       "  </tbody>\n",
       "</table>\n",
       "</div>"
      ],
      "text/plain": [
       "stroke                 0         1     Total\n",
       "Residence_type                              \n",
       "Rural           0.464236  0.026928  0.491164\n",
       "Urban           0.479102  0.029734  0.508836\n",
       "Total           0.943338  0.056662  1.000000"
      ]
     },
     "metadata": {},
     "output_type": "display_data"
    },
    {
     "data": {
      "text/html": [
       "<div>\n",
       "<style scoped>\n",
       "    .dataframe tbody tr th:only-of-type {\n",
       "        vertical-align: middle;\n",
       "    }\n",
       "\n",
       "    .dataframe tbody tr th {\n",
       "        vertical-align: top;\n",
       "    }\n",
       "\n",
       "    .dataframe thead th {\n",
       "        text-align: right;\n",
       "    }\n",
       "</style>\n",
       "<table border=\"1\" class=\"dataframe\">\n",
       "  <thead>\n",
       "    <tr style=\"text-align: right;\">\n",
       "      <th>stroke</th>\n",
       "      <th>0</th>\n",
       "      <th>1</th>\n",
       "      <th>Total</th>\n",
       "    </tr>\n",
       "    <tr>\n",
       "      <th>smoking_status</th>\n",
       "      <th></th>\n",
       "      <th></th>\n",
       "      <th></th>\n",
       "    </tr>\n",
       "  </thead>\n",
       "  <tbody>\n",
       "    <tr>\n",
       "      <th>formerly smoked</th>\n",
       "      <td>0.228331</td>\n",
       "      <td>0.019635</td>\n",
       "      <td>0.247966</td>\n",
       "    </tr>\n",
       "    <tr>\n",
       "      <th>never smoked</th>\n",
       "      <td>0.505470</td>\n",
       "      <td>0.025245</td>\n",
       "      <td>0.530715</td>\n",
       "    </tr>\n",
       "    <tr>\n",
       "      <th>smokes</th>\n",
       "      <td>0.209537</td>\n",
       "      <td>0.011781</td>\n",
       "      <td>0.221318</td>\n",
       "    </tr>\n",
       "    <tr>\n",
       "      <th>Total</th>\n",
       "      <td>0.943338</td>\n",
       "      <td>0.056662</td>\n",
       "      <td>1.000000</td>\n",
       "    </tr>\n",
       "  </tbody>\n",
       "</table>\n",
       "</div>"
      ],
      "text/plain": [
       "stroke                  0         1     Total\n",
       "smoking_status                               \n",
       "formerly smoked  0.228331  0.019635  0.247966\n",
       "never smoked     0.505470  0.025245  0.530715\n",
       "smokes           0.209537  0.011781  0.221318\n",
       "Total            0.943338  0.056662  1.000000"
      ]
     },
     "metadata": {},
     "output_type": "display_data"
    },
    {
     "data": {
      "text/html": [
       "<div>\n",
       "<style scoped>\n",
       "    .dataframe tbody tr th:only-of-type {\n",
       "        vertical-align: middle;\n",
       "    }\n",
       "\n",
       "    .dataframe tbody tr th {\n",
       "        vertical-align: top;\n",
       "    }\n",
       "\n",
       "    .dataframe thead th {\n",
       "        text-align: right;\n",
       "    }\n",
       "</style>\n",
       "<table border=\"1\" class=\"dataframe\">\n",
       "  <thead>\n",
       "    <tr style=\"text-align: right;\">\n",
       "      <th>stroke</th>\n",
       "      <th>0</th>\n",
       "      <th>1</th>\n",
       "      <th>Total</th>\n",
       "    </tr>\n",
       "    <tr>\n",
       "      <th>hypertension</th>\n",
       "      <th></th>\n",
       "      <th></th>\n",
       "      <th></th>\n",
       "    </tr>\n",
       "  </thead>\n",
       "  <tbody>\n",
       "    <tr>\n",
       "      <th>0</th>\n",
       "      <td>0.835624</td>\n",
       "      <td>0.039271</td>\n",
       "      <td>0.874895</td>\n",
       "    </tr>\n",
       "    <tr>\n",
       "      <th>1</th>\n",
       "      <td>0.107714</td>\n",
       "      <td>0.017391</td>\n",
       "      <td>0.125105</td>\n",
       "    </tr>\n",
       "    <tr>\n",
       "      <th>Total</th>\n",
       "      <td>0.943338</td>\n",
       "      <td>0.056662</td>\n",
       "      <td>1.000000</td>\n",
       "    </tr>\n",
       "  </tbody>\n",
       "</table>\n",
       "</div>"
      ],
      "text/plain": [
       "stroke               0         1     Total\n",
       "hypertension                              \n",
       "0             0.835624  0.039271  0.874895\n",
       "1             0.107714  0.017391  0.125105\n",
       "Total         0.943338  0.056662  1.000000"
      ]
     },
     "metadata": {},
     "output_type": "display_data"
    },
    {
     "data": {
      "text/html": [
       "<div>\n",
       "<style scoped>\n",
       "    .dataframe tbody tr th:only-of-type {\n",
       "        vertical-align: middle;\n",
       "    }\n",
       "\n",
       "    .dataframe tbody tr th {\n",
       "        vertical-align: top;\n",
       "    }\n",
       "\n",
       "    .dataframe thead th {\n",
       "        text-align: right;\n",
       "    }\n",
       "</style>\n",
       "<table border=\"1\" class=\"dataframe\">\n",
       "  <thead>\n",
       "    <tr style=\"text-align: right;\">\n",
       "      <th>stroke</th>\n",
       "      <th>0</th>\n",
       "      <th>1</th>\n",
       "      <th>Total</th>\n",
       "    </tr>\n",
       "    <tr>\n",
       "      <th>heart_disease</th>\n",
       "      <th></th>\n",
       "      <th></th>\n",
       "      <th></th>\n",
       "    </tr>\n",
       "  </thead>\n",
       "  <tbody>\n",
       "    <tr>\n",
       "      <th>0</th>\n",
       "      <td>0.890323</td>\n",
       "      <td>0.045722</td>\n",
       "      <td>0.936045</td>\n",
       "    </tr>\n",
       "    <tr>\n",
       "      <th>1</th>\n",
       "      <td>0.053015</td>\n",
       "      <td>0.010940</td>\n",
       "      <td>0.063955</td>\n",
       "    </tr>\n",
       "    <tr>\n",
       "      <th>Total</th>\n",
       "      <td>0.943338</td>\n",
       "      <td>0.056662</td>\n",
       "      <td>1.000000</td>\n",
       "    </tr>\n",
       "  </tbody>\n",
       "</table>\n",
       "</div>"
      ],
      "text/plain": [
       "stroke                0         1     Total\n",
       "heart_disease                              \n",
       "0              0.890323  0.045722  0.936045\n",
       "1              0.053015  0.010940  0.063955\n",
       "Total          0.943338  0.056662  1.000000"
      ]
     },
     "metadata": {},
     "output_type": "display_data"
    }
   ],
   "source": [
    "# Create a contingency table\n",
    "for feat in cat :\n",
    "    contingency_table = pd.crosstab(df[feat], df['stroke'] , margins=True , margins_name='Total' , normalize='all')\n",
    "    display(contingency_table)\n",
    "    "
   ]
  },
  {
   "cell_type": "markdown",
   "metadata": {},
   "source": [
    "We are going to find the risk ratio and difference in stroke rates for each categorical feature in the DataFrame, except for the 'stroke' column itself.\n",
    "This will help in understanding how the stroke risk varies across different categories compared to the overall average stroke rate.\n",
    "\n",
    "Risk Ratio (RR)\n",
    "\n",
    "RR = P unexposed /P exposed\n",
    "\n",
    "RR = 1: The risk of the event is the same in both the exposed and unexposed groups.\n",
    "\n",
    "RR > 1: The risk of the event is higher in the exposed group compared to the unexposed group.\n",
    "\n",
    "RR < 1: The risk of the event is lower in the exposed group compared to the unexposed group."
   ]
  },
  {
   "cell_type": "code",
   "execution_count": null,
   "metadata": {},
   "outputs": [
    {
     "data": {
      "text/html": [
       "<div>\n",
       "<style scoped>\n",
       "    .dataframe tbody tr th:only-of-type {\n",
       "        vertical-align: middle;\n",
       "    }\n",
       "\n",
       "    .dataframe tbody tr th {\n",
       "        vertical-align: top;\n",
       "    }\n",
       "\n",
       "    .dataframe thead th {\n",
       "        text-align: right;\n",
       "    }\n",
       "</style>\n",
       "<table border=\"1\" class=\"dataframe\">\n",
       "  <thead>\n",
       "    <tr style=\"text-align: right;\">\n",
       "      <th></th>\n",
       "      <th>gender</th>\n",
       "      <th>mean</th>\n",
       "      <th>risk</th>\n",
       "      <th>diff</th>\n",
       "    </tr>\n",
       "  </thead>\n",
       "  <tbody>\n",
       "    <tr>\n",
       "      <th>0</th>\n",
       "      <td>Female</td>\n",
       "      <td>0.053753</td>\n",
       "      <td>1.09701</td>\n",
       "      <td>0.004753</td>\n",
       "    </tr>\n",
       "    <tr>\n",
       "      <th>1</th>\n",
       "      <td>Male</td>\n",
       "      <td>0.061123</td>\n",
       "      <td>1.247407</td>\n",
       "      <td>0.012123</td>\n",
       "    </tr>\n",
       "  </tbody>\n",
       "</table>\n",
       "</div>"
      ],
      "text/plain": [
       "   gender      mean      risk      diff\n",
       "0  Female  0.053753   1.09701  0.004753\n",
       "1    Male  0.061123  1.247407  0.012123"
      ]
     },
     "metadata": {},
     "output_type": "display_data"
    },
    {
     "data": {
      "text/html": [
       "<div>\n",
       "<style scoped>\n",
       "    .dataframe tbody tr th:only-of-type {\n",
       "        vertical-align: middle;\n",
       "    }\n",
       "\n",
       "    .dataframe tbody tr th {\n",
       "        vertical-align: top;\n",
       "    }\n",
       "\n",
       "    .dataframe thead th {\n",
       "        text-align: right;\n",
       "    }\n",
       "</style>\n",
       "<table border=\"1\" class=\"dataframe\">\n",
       "  <thead>\n",
       "    <tr style=\"text-align: right;\">\n",
       "      <th></th>\n",
       "      <th>ever_married</th>\n",
       "      <th>mean</th>\n",
       "      <th>risk</th>\n",
       "      <th>diff</th>\n",
       "    </tr>\n",
       "  </thead>\n",
       "  <tbody>\n",
       "    <tr>\n",
       "      <th>0</th>\n",
       "      <td>No</td>\n",
       "      <td>0.024561</td>\n",
       "      <td>0.501253</td>\n",
       "      <td>-0.024439</td>\n",
       "    </tr>\n",
       "    <tr>\n",
       "      <th>1</th>\n",
       "      <td>Yes</td>\n",
       "      <td>0.06679</td>\n",
       "      <td>1.363054</td>\n",
       "      <td>0.01779</td>\n",
       "    </tr>\n",
       "  </tbody>\n",
       "</table>\n",
       "</div>"
      ],
      "text/plain": [
       "  ever_married      mean      risk      diff\n",
       "0           No  0.024561  0.501253 -0.024439\n",
       "1          Yes   0.06679  1.363054   0.01779"
      ]
     },
     "metadata": {},
     "output_type": "display_data"
    },
    {
     "data": {
      "text/html": [
       "<div>\n",
       "<style scoped>\n",
       "    .dataframe tbody tr th:only-of-type {\n",
       "        vertical-align: middle;\n",
       "    }\n",
       "\n",
       "    .dataframe tbody tr th {\n",
       "        vertical-align: top;\n",
       "    }\n",
       "\n",
       "    .dataframe thead th {\n",
       "        text-align: right;\n",
       "    }\n",
       "</style>\n",
       "<table border=\"1\" class=\"dataframe\">\n",
       "  <thead>\n",
       "    <tr style=\"text-align: right;\">\n",
       "      <th></th>\n",
       "      <th>work_type</th>\n",
       "      <th>mean</th>\n",
       "      <th>risk</th>\n",
       "      <th>diff</th>\n",
       "    </tr>\n",
       "  </thead>\n",
       "  <tbody>\n",
       "    <tr>\n",
       "      <th>0</th>\n",
       "      <td>Govt_job</td>\n",
       "      <td>0.046729</td>\n",
       "      <td>0.953652</td>\n",
       "      <td>-0.002271</td>\n",
       "    </tr>\n",
       "    <tr>\n",
       "      <th>1</th>\n",
       "      <td>Never_worked</td>\n",
       "      <td>0.0</td>\n",
       "      <td>0.0</td>\n",
       "      <td>-0.049</td>\n",
       "    </tr>\n",
       "    <tr>\n",
       "      <th>2</th>\n",
       "      <td>Private</td>\n",
       "      <td>0.052539</td>\n",
       "      <td>1.072233</td>\n",
       "      <td>0.003539</td>\n",
       "    </tr>\n",
       "    <tr>\n",
       "      <th>3</th>\n",
       "      <td>Self-employed</td>\n",
       "      <td>0.085973</td>\n",
       "      <td>1.754548</td>\n",
       "      <td>0.036973</td>\n",
       "    </tr>\n",
       "    <tr>\n",
       "      <th>4</th>\n",
       "      <td>children</td>\n",
       "      <td>0.0</td>\n",
       "      <td>0.0</td>\n",
       "      <td>-0.049</td>\n",
       "    </tr>\n",
       "  </tbody>\n",
       "</table>\n",
       "</div>"
      ],
      "text/plain": [
       "       work_type      mean      risk      diff\n",
       "0       Govt_job  0.046729  0.953652 -0.002271\n",
       "1   Never_worked       0.0       0.0    -0.049\n",
       "2        Private  0.052539  1.072233  0.003539\n",
       "3  Self-employed  0.085973  1.754548  0.036973\n",
       "4       children       0.0       0.0    -0.049"
      ]
     },
     "metadata": {},
     "output_type": "display_data"
    },
    {
     "data": {
      "text/html": [
       "<div>\n",
       "<style scoped>\n",
       "    .dataframe tbody tr th:only-of-type {\n",
       "        vertical-align: middle;\n",
       "    }\n",
       "\n",
       "    .dataframe tbody tr th {\n",
       "        vertical-align: top;\n",
       "    }\n",
       "\n",
       "    .dataframe thead th {\n",
       "        text-align: right;\n",
       "    }\n",
       "</style>\n",
       "<table border=\"1\" class=\"dataframe\">\n",
       "  <thead>\n",
       "    <tr style=\"text-align: right;\">\n",
       "      <th></th>\n",
       "      <th>Residence_type</th>\n",
       "      <th>mean</th>\n",
       "      <th>risk</th>\n",
       "      <th>diff</th>\n",
       "    </tr>\n",
       "  </thead>\n",
       "  <tbody>\n",
       "    <tr>\n",
       "      <th>0</th>\n",
       "      <td>Rural</td>\n",
       "      <td>0.054826</td>\n",
       "      <td>1.118894</td>\n",
       "      <td>0.005826</td>\n",
       "    </tr>\n",
       "    <tr>\n",
       "      <th>1</th>\n",
       "      <td>Urban</td>\n",
       "      <td>0.058434</td>\n",
       "      <td>1.192539</td>\n",
       "      <td>0.009434</td>\n",
       "    </tr>\n",
       "  </tbody>\n",
       "</table>\n",
       "</div>"
      ],
      "text/plain": [
       "  Residence_type      mean      risk      diff\n",
       "0          Rural  0.054826  1.118894  0.005826\n",
       "1          Urban  0.058434  1.192539  0.009434"
      ]
     },
     "metadata": {},
     "output_type": "display_data"
    },
    {
     "data": {
      "text/html": [
       "<div>\n",
       "<style scoped>\n",
       "    .dataframe tbody tr th:only-of-type {\n",
       "        vertical-align: middle;\n",
       "    }\n",
       "\n",
       "    .dataframe tbody tr th {\n",
       "        vertical-align: top;\n",
       "    }\n",
       "\n",
       "    .dataframe thead th {\n",
       "        text-align: right;\n",
       "    }\n",
       "</style>\n",
       "<table border=\"1\" class=\"dataframe\">\n",
       "  <thead>\n",
       "    <tr style=\"text-align: right;\">\n",
       "      <th></th>\n",
       "      <th>smoking_status</th>\n",
       "      <th>mean</th>\n",
       "      <th>risk</th>\n",
       "      <th>diff</th>\n",
       "    </tr>\n",
       "  </thead>\n",
       "  <tbody>\n",
       "    <tr>\n",
       "      <th>0</th>\n",
       "      <td>formerly smoked</td>\n",
       "      <td>0.079186</td>\n",
       "      <td>1.616031</td>\n",
       "      <td>0.030186</td>\n",
       "    </tr>\n",
       "    <tr>\n",
       "      <th>1</th>\n",
       "      <td>never smoked</td>\n",
       "      <td>0.047569</td>\n",
       "      <td>0.97079</td>\n",
       "      <td>-0.001431</td>\n",
       "    </tr>\n",
       "    <tr>\n",
       "      <th>2</th>\n",
       "      <td>smokes</td>\n",
       "      <td>0.053232</td>\n",
       "      <td>1.086366</td>\n",
       "      <td>0.004232</td>\n",
       "    </tr>\n",
       "  </tbody>\n",
       "</table>\n",
       "</div>"
      ],
      "text/plain": [
       "    smoking_status      mean      risk      diff\n",
       "0  formerly smoked  0.079186  1.616031  0.030186\n",
       "1     never smoked  0.047569   0.97079 -0.001431\n",
       "2           smokes  0.053232  1.086366  0.004232"
      ]
     },
     "metadata": {},
     "output_type": "display_data"
    },
    {
     "data": {
      "text/html": [
       "<div>\n",
       "<style scoped>\n",
       "    .dataframe tbody tr th:only-of-type {\n",
       "        vertical-align: middle;\n",
       "    }\n",
       "\n",
       "    .dataframe tbody tr th {\n",
       "        vertical-align: top;\n",
       "    }\n",
       "\n",
       "    .dataframe thead th {\n",
       "        text-align: right;\n",
       "    }\n",
       "</style>\n",
       "<table border=\"1\" class=\"dataframe\">\n",
       "  <thead>\n",
       "    <tr style=\"text-align: right;\">\n",
       "      <th></th>\n",
       "      <th>hypertension</th>\n",
       "      <th>mean</th>\n",
       "      <th>risk</th>\n",
       "      <th>diff</th>\n",
       "    </tr>\n",
       "  </thead>\n",
       "  <tbody>\n",
       "    <tr>\n",
       "      <th>0</th>\n",
       "      <td>0</td>\n",
       "      <td>0.044886</td>\n",
       "      <td>0.916045</td>\n",
       "      <td>-0.004114</td>\n",
       "    </tr>\n",
       "    <tr>\n",
       "      <th>1</th>\n",
       "      <td>1</td>\n",
       "      <td>0.139013</td>\n",
       "      <td>2.837009</td>\n",
       "      <td>0.090013</td>\n",
       "    </tr>\n",
       "  </tbody>\n",
       "</table>\n",
       "</div>"
      ],
      "text/plain": [
       "   hypertension      mean      risk      diff\n",
       "0             0  0.044886  0.916045 -0.004114\n",
       "1             1  0.139013  2.837009  0.090013"
      ]
     },
     "metadata": {},
     "output_type": "display_data"
    },
    {
     "data": {
      "text/html": [
       "<div>\n",
       "<style scoped>\n",
       "    .dataframe tbody tr th:only-of-type {\n",
       "        vertical-align: middle;\n",
       "    }\n",
       "\n",
       "    .dataframe tbody tr th {\n",
       "        vertical-align: top;\n",
       "    }\n",
       "\n",
       "    .dataframe thead th {\n",
       "        text-align: right;\n",
       "    }\n",
       "</style>\n",
       "<table border=\"1\" class=\"dataframe\">\n",
       "  <thead>\n",
       "    <tr style=\"text-align: right;\">\n",
       "      <th></th>\n",
       "      <th>heart_disease</th>\n",
       "      <th>mean</th>\n",
       "      <th>risk</th>\n",
       "      <th>diff</th>\n",
       "    </tr>\n",
       "  </thead>\n",
       "  <tbody>\n",
       "    <tr>\n",
       "      <th>0</th>\n",
       "      <td>0</td>\n",
       "      <td>0.048846</td>\n",
       "      <td>0.996863</td>\n",
       "      <td>-0.000154</td>\n",
       "    </tr>\n",
       "    <tr>\n",
       "      <th>1</th>\n",
       "      <td>1</td>\n",
       "      <td>0.171053</td>\n",
       "      <td>3.49087</td>\n",
       "      <td>0.122053</td>\n",
       "    </tr>\n",
       "  </tbody>\n",
       "</table>\n",
       "</div>"
      ],
      "text/plain": [
       "   heart_disease      mean      risk      diff\n",
       "0              0  0.048846  0.996863 -0.000154\n",
       "1              1  0.171053   3.49087  0.122053"
      ]
     },
     "metadata": {},
     "output_type": "display_data"
    }
   ],
   "source": [
    "for feat in cat: \n",
    "    if feat == 'stroke':\n",
    "        pass\n",
    "    else :\n",
    "        df_grouped = df.groupby(by=feat)[\"stroke\"].agg([\"mean\"]).reset_index()\n",
    "        df_grouped[\"risk\"] = df_grouped['mean'] / stroke_mean\n",
    "        df_grouped[\"diff\"] = df_grouped[\"mean\"] - stroke_mean\n",
    "        display(df_grouped)"
   ]
  },
  {
   "cell_type": "code",
   "execution_count": null,
   "metadata": {},
   "outputs": [
    {
     "data": {
      "image/png": "[encoded data removed]",
      "text/plain": [
       "<Figure size 640x480 with 1 Axes>"
      ]
     },
     "metadata": {},
     "output_type": "display_data"
    },
    {
     "data": {
      "image/png": "[encoded data removed]",
      "text/plain": [
       "<Figure size 640x480 with 1 Axes>"
      ]
     },
     "metadata": {},
     "output_type": "display_data"
    },
    {
     "data": {
      "image/png": "[encoded data removed]",
      "text/plain": [
       "<Figure size 640x480 with 1 Axes>"
      ]
     },
     "metadata": {},
     "output_type": "display_data"
    },
    {
     "data": {
      "image/png": "[encoded data removed]",
      "text/plain": [
       "<Figure size 640x480 with 1 Axes>"
      ]
     },
     "metadata": {},
     "output_type": "display_data"
    },
    {
     "data": {
      "image/png": "[encoded data removed]",
      "text/plain": [
       "<Figure size 640x480 with 1 Axes>"
      ]
     },
     "metadata": {},
     "output_type": "display_data"
    },
    {
     "data": {
      "image/png": "[encoded data removed]",
      "text/plain": [
       "<Figure size 640x480 with 1 Axes>"
      ]
     },
     "metadata": {},
     "output_type": "display_data"
    },
    {
     "data": {
      "image/png": "[encoded data removed]",
      "text/plain": [
       "<Figure size 640x480 with 1 Axes>"
      ]
     },
     "metadata": {},
     "output_type": "display_data"
    }
   ],
   "source": [
    "for i, column_name in enumerate(cat[:]):   \n",
    "    row = i//2\n",
    "    col = i % 2\n",
    "    df_group = df.groupby(by=column_name).stroke.agg(['mean']).reset_index()\n",
    "    graph=sns.barplot(x= column_name , y='mean' , data=df_group, palette='Greens')\n",
    "    graph.axhline(stroke_mean , linewidth=3, color='b')\n",
    "    plt.text(0, stroke_mean - 0.03, \"global_mean\", color='black', weight='semibold')\n",
    "    plt.show()"
   ]
  },
  {
   "cell_type": "code",
   "execution_count": null,
   "metadata": {},
   "outputs": [
    {
     "data": {
      "text/plain": [
       "gender            0\n",
       "ever_married      0\n",
       "work_type         0\n",
       "Residence_type    0\n",
       "smoking_status    0\n",
       "hypertension      0\n",
       "heart_disease     0\n",
       "dtype: int64"
      ]
     },
     "execution_count": 25,
     "metadata": {},
     "output_type": "execute_result"
    }
   ],
   "source": [
    "# checking for missing values for the categorical features\n",
    "df[cat].isna().sum()"
   ]
  },
  {
   "cell_type": "markdown",
   "metadata": {},
   "source": [
    "## Numerical Features\n",
    "### Univariate Analysis\n",
    "\n",
    "*mean ≈ meadian , all the numerical variables so it may be normaly distributed"
   ]
  },
  {
   "cell_type": "code",
   "execution_count": null,
   "metadata": {},
   "outputs": [
    {
     "data": {
      "text/html": [
       "<div>\n",
       "<style scoped>\n",
       "    .dataframe tbody tr th:only-of-type {\n",
       "        vertical-align: middle;\n",
       "    }\n",
       "\n",
       "    .dataframe tbody tr th {\n",
       "        vertical-align: top;\n",
       "    }\n",
       "\n",
       "    .dataframe thead th {\n",
       "        text-align: right;\n",
       "    }\n",
       "</style>\n",
       "<table border=\"1\" class=\"dataframe\">\n",
       "  <thead>\n",
       "    <tr style=\"text-align: right;\">\n",
       "      <th></th>\n",
       "      <th>count</th>\n",
       "      <th>mean</th>\n",
       "      <th>std</th>\n",
       "      <th>min</th>\n",
       "      <th>25%</th>\n",
       "      <th>50%</th>\n",
       "      <th>75%</th>\n",
       "      <th>max</th>\n",
       "    </tr>\n",
       "  </thead>\n",
       "  <tbody>\n",
       "    <tr>\n",
       "      <th>age</th>\n",
       "      <td>3565.0</td>\n",
       "      <td>48.860309</td>\n",
       "      <td>18.873140</td>\n",
       "      <td>10.00</td>\n",
       "      <td>34.00</td>\n",
       "      <td>50.00</td>\n",
       "      <td>63.00</td>\n",
       "      <td>82.00</td>\n",
       "    </tr>\n",
       "    <tr>\n",
       "      <th>avg_glucose_level</th>\n",
       "      <td>3565.0</td>\n",
       "      <td>108.972376</td>\n",
       "      <td>48.295550</td>\n",
       "      <td>55.12</td>\n",
       "      <td>77.46</td>\n",
       "      <td>92.65</td>\n",
       "      <td>116.67</td>\n",
       "      <td>271.74</td>\n",
       "    </tr>\n",
       "    <tr>\n",
       "      <th>bmi</th>\n",
       "      <td>3425.0</td>\n",
       "      <td>30.292350</td>\n",
       "      <td>7.295778</td>\n",
       "      <td>11.50</td>\n",
       "      <td>25.30</td>\n",
       "      <td>29.10</td>\n",
       "      <td>34.10</td>\n",
       "      <td>92.00</td>\n",
       "    </tr>\n",
       "  </tbody>\n",
       "</table>\n",
       "</div>"
      ],
      "text/plain": [
       "                    count        mean        std    min    25%    50%     75%  \\\n",
       "age                3565.0   48.860309  18.873140  10.00  34.00  50.00   63.00   \n",
       "avg_glucose_level  3565.0  108.972376  48.295550  55.12  77.46  92.65  116.67   \n",
       "bmi                3425.0   30.292350   7.295778  11.50  25.30  29.10   34.10   \n",
       "\n",
       "                      max  \n",
       "age                 82.00  \n",
       "avg_glucose_level  271.74  \n",
       "bmi                 92.00  "
      ]
     },
     "execution_count": 26,
     "metadata": {},
     "output_type": "execute_result"
    }
   ],
   "source": [
    "# Extract a list of columns with numeric data types from the df\n",
    "num = list(df.select_dtypes(exclude=\"O\").columns)\n",
    "#  Generate descriptive statistics for the numeric columns and transpose the output for better readability\n",
    "# 'include=\"all\"' ensures all available statistics are included\n",
    "df[num].describe(include='all').T"
   ]
  },
  {
   "cell_type": "markdown",
   "metadata": {},
   "source": [
    "We are going to creat histograms for all the numeric columns in the DataFrame to visualize their distributions\n"
   ]
  },
  {
   "cell_type": "code",
   "execution_count": null,
   "metadata": {},
   "outputs": [
    {
     "data": {
      "text/plain": [
       "array([[<Axes: title={'center': 'age'}>,\n",
       "        <Axes: title={'center': 'avg_glucose_level'}>],\n",
       "       [<Axes: title={'center': 'bmi'}>, <Axes: >]], dtype=object)"
      ]
     },
     "execution_count": 27,
     "metadata": {},
     "output_type": "execute_result"
    },
    {
     "data": {
      "image/png": "[encoded data removed]",
      "text/plain": [
       "<Figure size 800x800 with 4 Axes>"
      ]
     },
     "metadata": {},
     "output_type": "display_data"
    }
   ],
   "source": [
    "\n",
    "df[num].hist(figsize=(8 ,8))\n"
   ]
  },
  {
   "cell_type": "markdown",
   "metadata": {},
   "source": [
    "### checking for missing values for the numerical data"
   ]
  },
  {
   "cell_type": "code",
   "execution_count": null,
   "metadata": {},
   "outputs": [
    {
     "data": {
      "text/plain": [
       "age                    0\n",
       "avg_glucose_level      0\n",
       "bmi                  140\n",
       "dtype: int64"
      ]
     },
     "execution_count": 28,
     "metadata": {},
     "output_type": "execute_result"
    }
   ],
   "source": [
    "df[num].isnull().sum()\n"
   ]
  },
  {
   "cell_type": "code",
   "execution_count": null,
   "metadata": {},
   "outputs": [],
   "source": [
    "# Filling the NaN values in the 'bmi' column using KNNImputer\n",
    "from sklearn.impute import KNNImputer\n",
    "imputer = KNNImputer(n_neighbors = 5)\n",
    "df['bmi'] = imputer.fit_transform(df[['bmi']])"
   ]
  },
  {
   "cell_type": "code",
   "execution_count": null,
   "metadata": {},
   "outputs": [
    {
     "data": {
      "text/plain": [
       "age                  0\n",
       "avg_glucose_level    0\n",
       "bmi                  0\n",
       "dtype: int64"
      ]
     },
     "execution_count": 30,
     "metadata": {},
     "output_type": "execute_result"
    }
   ],
   "source": [
    "df[num].isna().sum()"
   ]
  },
  {
   "cell_type": "markdown",
   "metadata": {},
   "source": [
    "### Bivariate analysis\n",
    "#### Summary statistics\n"
   ]
  },
  {
   "cell_type": "code",
   "execution_count": null,
   "metadata": {},
   "outputs": [
    {
     "data": {
      "text/html": [
       "<div>\n",
       "<style scoped>\n",
       "    .dataframe tbody tr th:only-of-type {\n",
       "        vertical-align: middle;\n",
       "    }\n",
       "\n",
       "    .dataframe tbody tr th {\n",
       "        vertical-align: top;\n",
       "    }\n",
       "\n",
       "    .dataframe thead th {\n",
       "        text-align: right;\n",
       "    }\n",
       "</style>\n",
       "<table border=\"1\" class=\"dataframe\">\n",
       "  <thead>\n",
       "    <tr style=\"text-align: right;\">\n",
       "      <th></th>\n",
       "      <th>stroke</th>\n",
       "      <th>0</th>\n",
       "      <th>1</th>\n",
       "    </tr>\n",
       "  </thead>\n",
       "  <tbody>\n",
       "    <tr>\n",
       "      <th rowspan=\"5\" valign=\"top\">age</th>\n",
       "      <th>mean</th>\n",
       "      <td>47.700565</td>\n",
       "      <td>68.168317</td>\n",
       "    </tr>\n",
       "    <tr>\n",
       "      <th>median</th>\n",
       "      <td>48.000000</td>\n",
       "      <td>71.000000</td>\n",
       "    </tr>\n",
       "    <tr>\n",
       "      <th>std</th>\n",
       "      <td>18.589570</td>\n",
       "      <td>11.768555</td>\n",
       "    </tr>\n",
       "    <tr>\n",
       "      <th>min</th>\n",
       "      <td>10.000000</td>\n",
       "      <td>32.000000</td>\n",
       "    </tr>\n",
       "    <tr>\n",
       "      <th>max</th>\n",
       "      <td>82.000000</td>\n",
       "      <td>82.000000</td>\n",
       "    </tr>\n",
       "    <tr>\n",
       "      <th rowspan=\"5\" valign=\"top\">avg_glucose_level</th>\n",
       "      <th>mean</th>\n",
       "      <td>107.448379</td>\n",
       "      <td>134.344653</td>\n",
       "    </tr>\n",
       "    <tr>\n",
       "      <th>median</th>\n",
       "      <td>92.060000</td>\n",
       "      <td>106.575000</td>\n",
       "    </tr>\n",
       "    <tr>\n",
       "      <th>std</th>\n",
       "      <td>46.843959</td>\n",
       "      <td>62.993827</td>\n",
       "    </tr>\n",
       "    <tr>\n",
       "      <th>min</th>\n",
       "      <td>55.120000</td>\n",
       "      <td>56.110000</td>\n",
       "    </tr>\n",
       "    <tr>\n",
       "      <th>max</th>\n",
       "      <td>267.760000</td>\n",
       "      <td>271.740000</td>\n",
       "    </tr>\n",
       "    <tr>\n",
       "      <th rowspan=\"5\" valign=\"top\">bmi</th>\n",
       "      <th>mean</th>\n",
       "      <td>30.273118</td>\n",
       "      <td>30.612533</td>\n",
       "    </tr>\n",
       "    <tr>\n",
       "      <th>median</th>\n",
       "      <td>29.400000</td>\n",
       "      <td>30.292350</td>\n",
       "    </tr>\n",
       "    <tr>\n",
       "      <th>std</th>\n",
       "      <td>7.216724</td>\n",
       "      <td>5.958113</td>\n",
       "    </tr>\n",
       "    <tr>\n",
       "      <th>min</th>\n",
       "      <td>11.500000</td>\n",
       "      <td>16.900000</td>\n",
       "    </tr>\n",
       "    <tr>\n",
       "      <th>max</th>\n",
       "      <td>92.000000</td>\n",
       "      <td>56.600000</td>\n",
       "    </tr>\n",
       "  </tbody>\n",
       "</table>\n",
       "</div>"
      ],
      "text/plain": [
       "stroke                             0           1\n",
       "age               mean     47.700565   68.168317\n",
       "                  median   48.000000   71.000000\n",
       "                  std      18.589570   11.768555\n",
       "                  min      10.000000   32.000000\n",
       "                  max      82.000000   82.000000\n",
       "avg_glucose_level mean    107.448379  134.344653\n",
       "                  median   92.060000  106.575000\n",
       "                  std      46.843959   62.993827\n",
       "                  min      55.120000   56.110000\n",
       "                  max     267.760000  271.740000\n",
       "bmi               mean     30.273118   30.612533\n",
       "                  median   29.400000   30.292350\n",
       "                  std       7.216724    5.958113\n",
       "                  min      11.500000   16.900000\n",
       "                  max      92.000000   56.600000"
      ]
     },
     "execution_count": 32,
     "metadata": {},
     "output_type": "execute_result"
    }
   ],
   "source": [
    "df.groupby('stroke')[num].agg(['mean' , 'median' , 'std' , 'min' , 'max']).T\n"
   ]
  },
  {
   "cell_type": "markdown",
   "metadata": {},
   "source": [
    "### Analysing the 'age' column"
   ]
  },
  {
   "cell_type": "code",
   "execution_count": null,
   "metadata": {},
   "outputs": [
    {
     "data": {
      "image/png": "[encoded data removed]",
      "text/plain": [
       "<Figure size 640x480 with 1 Axes>"
      ]
     },
     "metadata": {},
     "output_type": "display_data"
    }
   ],
   "source": [
    "a1 = df[(df['age'] <= 25)].stroke.mean()    \n",
    "a2 = df[(df['age'] > 25) & (df['age'] <=40)].stroke.mean()\n",
    "a3 = df[(df['age'] > 40)].stroke.mean()    \n",
    "\n",
    "# df[(df['age'] > 40) & (df['age'] < 70)].stroke.mean()\n",
    "sns.barplot(x =['-25', '26-40' ,'+40'], y =[a1,a2 ,a3], palette='Greens');\n",
    "plt.title('Stroke Rate by age');\n",
    "plt.xlabel('age');\n",
    "plt.ylabel('stroke Rate');\n"
   ]
  },
  {
   "cell_type": "markdown",
   "metadata": {},
   "source": [
    "### The Body mass index (BMI)\n",
    "BMI categories:\n",
    "\n",
    "1.Underweight: BMI < 18.5.\n",
    "\n",
    "2.Normal weight: BMI 18.5–24.9.\n",
    "\n",
    "3.Overweight: BMI 25–29.9.\n",
    "\n",
    "4.Obesity: BMI ≥ 30 "
   ]
  },
  {
   "cell_type": "code",
   "execution_count": null,
   "metadata": {},
   "outputs": [],
   "source": [
    "def categorize_bmi(bmi):\n",
    "    if bmi < 18.5:\n",
    "        return 'Underweight'\n",
    "    elif 18.5 <= bmi < 24.9:\n",
    "        return 'Normal weight'\n",
    "    elif 25 <= bmi < 29.9:\n",
    "        return 'Overweight'\n",
    "    else:\n",
    "        return 'Obesity'"
   ]
  },
  {
   "cell_type": "markdown",
   "metadata": {},
   "source": [
    " We are going to create a new column  'bmi_cat' to the df, where each value is derived from the 'bmi' column by applying the categorize_bmi function. The categorize_bmi function presumably classifies each BMI value into categories or bins (such as underweight, normal weight, overweight, etc.)."
   ]
  },
  {
   "cell_type": "code",
   "execution_count": null,
   "metadata": {},
   "outputs": [],
   "source": [
    "df['bmi_cat'] = df['bmi'].apply(categorize_bmi)\n"
   ]
  },
  {
   "cell_type": "code",
   "execution_count": null,
   "metadata": {},
   "outputs": [
    {
     "data": {
      "text/plain": [
       "bmi_cat\n",
       "Obesity          1717\n",
       "Overweight       1072\n",
       "Normal weight     727\n",
       "Underweight        49\n",
       "Name: count, dtype: int64"
      ]
     },
     "execution_count": 36,
     "metadata": {},
     "output_type": "execute_result"
    }
   ],
   "source": [
    "# Display the count of unique values in the 'bmi_cat' column\n",
    "\n",
    "df['bmi_cat'].value_counts()\n"
   ]
  },
  {
   "cell_type": "code",
   "execution_count": null,
   "metadata": {},
   "outputs": [
    {
     "data": {
      "text/plain": [
       "array(['Obesity', 'Normal weight', 'Overweight', 'Underweight'],\n",
       "      dtype=object)"
      ]
     },
     "execution_count": 37,
     "metadata": {},
     "output_type": "execute_result"
    }
   ],
   "source": [
    "# Display the unique values present in the 'bmi_cat' column\n",
    "df.bmi_cat.unique()\n"
   ]
  },
  {
   "cell_type": "markdown",
   "metadata": {},
   "source": [
    "We are going to generate| a bar plot that visualizes the average stroke rate for different BMI categories. Each bar represents the mean stroke rate for a specific BMI category, such as 'Obesity', 'Normal weight', 'Overweight', and 'Underweight'. The plot uses a green color palette and labels the x-axis with BMI categories and the y-axis with the stroke rate."
   ]
  },
  {
   "cell_type": "code",
   "execution_count": null,
   "metadata": {},
   "outputs": [
    {
     "data": {
      "image/png": "[encoded data removed]",
      "text/plain": [
       "<Figure size 640x480 with 1 Axes>"
      ]
     },
     "metadata": {},
     "output_type": "display_data"
    }
   ],
   "source": [
    "sns.barplot(x = df.bmi_cat.unique() ,\n",
    "            y = [df[df['bmi_cat'] == \"Obesity\"].stroke.mean() ,\n",
    "                df[df['bmi_cat'] == 'Normal weight'].stroke.mean() ,\n",
    "                df[df['bmi_cat'] == 'Overweight'].stroke.mean() ,\n",
    "                df[df['bmi_cat'] == \"Underweight\"].stroke.mean() ] ,\n",
    "            palette='Greens');\n",
    "plt.title('Stroke Rate by bmi_cat');\n",
    "plt.xlabel('bmi_cat');\n",
    "plt.ylabel('stroke Rate');"
   ]
  },
  {
   "cell_type": "markdown",
   "metadata": {},
   "source": [
    "### avg_glucose_level categories\n",
    "We are going to classify glucose level into one of three categories based on its value. It returns:\n",
    "\n",
    "'Normal' for glucose levels below 100 mg/dL,\n",
    "\n",
    "'Prediabetes' for levels between 100 and 125 mg/dL,\n",
    "\n",
    "'Diabetes' for levels 126 mg/dL and above."
   ]
  },
  {
   "cell_type": "code",
   "execution_count": null,
   "metadata": {},
   "outputs": [],
   "source": [
    "\"\"\"\n",
    "Parameters:\n",
    "    glucose (float): The glucose level to categorize.\n",
    "    \n",
    "    Returns:\n",
    "    str: The category of the glucose level ('Normal', 'Prediabetes', or 'Diabetes').\n",
    "    \"\"\"\n",
    "\n",
    "def categorize_glucose_level(glucose):\n",
    "    if glucose < 100:\n",
    "        return 'Normal'\n",
    "    elif 100 <= glucose < 126:\n",
    "        return 'Prediabetes'\n",
    "    else:\n",
    "        return 'Diabetes'"
   ]
  },
  {
   "cell_type": "code",
   "execution_count": null,
   "metadata": {},
   "outputs": [
    {
     "data": {
      "text/plain": [
       "glucose_cat\n",
       "Normal         2131\n",
       "Diabetes        759\n",
       "Prediabetes     675\n",
       "Name: count, dtype: int64"
      ]
     },
     "execution_count": 41,
     "metadata": {},
     "output_type": "execute_result"
    }
   ],
   "source": [
    "# Apply the categorize_glucose_level function to each value in the 'avg_glucose_level' column\n",
    "# and create a new column 'glucose_cat' to store the categorized glucose levels.\n",
    "df['glucose_cat'] = df['avg_glucose_level'].apply(categorize_glucose_level)\n",
    "# Display the count of each category in the 'glucose_cat' column.\n",
    "\n",
    "df['glucose_cat'].value_counts()"
   ]
  },
  {
   "cell_type": "markdown",
   "metadata": {},
   "source": [
    "create a bar plot with glucose categories on the x-axis and their corresponding average stroke rates on the y-axis."
   ]
  },
  {
   "cell_type": "code",
   "execution_count": null,
   "metadata": {},
   "outputs": [
    {
     "data": {
      "image/png": "[encoded data removed]",
      "text/plain": [
       "<Figure size 640x480 with 1 Axes>"
      ]
     },
     "metadata": {},
     "output_type": "display_data"
    }
   ],
   "source": [
    "\n",
    "# Create a bar plot showing the average stroke rate for each glucose category\n",
    "\n",
    "sns.barplot(x = df.glucose_cat.unique() ,\n",
    "            y = [df[df['glucose_cat'] == \"Diabetes\"].stroke.mean() ,\n",
    "                df[df['glucose_cat'] == 'Prediabetes'].stroke.mean() ,\n",
    "                df[df['glucose_cat'] == 'Normal'].stroke.mean()] ,\n",
    "            palette='Greens');\n",
    "plt.title('Stroke Rate by glucose_cat');\n",
    "plt.xlabel('glucose_cat');\n",
    "plt.ylabel('stroke Rate');"
   ]
  },
  {
   "cell_type": "markdown",
   "metadata": {},
   "source": [
    "### Outliers in each stroke level\n",
    "We now create a 2x2 grid of box plots to visualize the distribution of numerical features in relation to stroke status. Each subplot displays the distribution of one numerical variable, separated by stroke status (e.g., stroke = 0 vs. stroke = 1). The plots are arranged with adjusted spacing to ensure clarity and readability, with titles corresponding to each numerical feature. The x-axis tick labels are removed for a cleaner look, and any remaining labels are rotated for better visibility.\n",
    "\n"
   ]
  },
  {
   "cell_type": "code",
   "execution_count": null,
   "metadata": {},
   "outputs": [
    {
     "data": {
      "image/png": "[encoded data removed]",
      "text/plain": [
       "<Figure size 1000x1000 with 4 Axes>"
      ]
     },
     "metadata": {},
     "output_type": "display_data"
    }
   ],
   "source": [
    "figure, axis = plt.subplots(2, 2, figsize=(10, 10))\n",
    "plt.subplots_adjust(hspace=0.25, wspace=0.3)\n",
    "\n",
    "for i, column_name in enumerate(num):\n",
    "    row = i//2\n",
    "    col = i % 2\n",
    "    bp = sns.boxplot(ax=axis[row, col], x=df['stroke'] , y=df[column_name] , hue=df['stroke']) \n",
    "    bp.set(xticklabels=[])\n",
    "    bp.set_xticklabels(bp.get_xticklabels(), rotation=90, size = 7)\n",
    "    axis[row, col].set_title(column_name)\n",
    "plt.show()"
   ]
  },
  {
   "cell_type": "markdown",
   "metadata": {},
   "source": [
    "## Feature selection\n",
    "### Categorical Features (Mutual information)\n",
    "Mutual information;\n",
    "\n",
    "More efficient to compare features importance.\n",
    "\n",
    "Mutual information is a way to quantify the degree of dependency between two categorical variables, but it      doesn’t work when one of the features is numerical\n",
    "\n",
    "MI(feature;target) = Entropy(feature) - Entropy(feature|target)"
   ]
  },
  {
   "cell_type": "code",
   "execution_count": null,
   "metadata": {},
   "outputs": [],
   "source": [
    "\"\"\"\n",
    "We are going to add two new categorical features: 'bmi_cat' and 'glucose_cat'.\n",
    "This adjustment reflects the addition of these new variables, which categorize BMI and glucose levels, to the list of categorical features previously defined.\n",
    "\"\"\"\n",
    "\n",
    "cat = cat+ ['bmi_cat' , 'glucose_cat'] \n"
   ]
  },
  {
   "cell_type": "code",
   "execution_count": null,
   "metadata": {},
   "outputs": [
    {
     "data": {
      "text/html": [
       "<div>\n",
       "<style scoped>\n",
       "    .dataframe tbody tr th:only-of-type {\n",
       "        vertical-align: middle;\n",
       "    }\n",
       "\n",
       "    .dataframe tbody tr th {\n",
       "        vertical-align: top;\n",
       "    }\n",
       "\n",
       "    .dataframe thead th {\n",
       "        text-align: right;\n",
       "    }\n",
       "</style>\n",
       "<table border=\"1\" class=\"dataframe\">\n",
       "  <thead>\n",
       "    <tr style=\"text-align: right;\">\n",
       "      <th></th>\n",
       "      <th>MI</th>\n",
       "    </tr>\n",
       "  </thead>\n",
       "  <tbody>\n",
       "    <tr>\n",
       "      <th>hypertension</th>\n",
       "      <td>0.006987</td>\n",
       "    </tr>\n",
       "    <tr>\n",
       "      <th>glucose_cat</th>\n",
       "      <td>0.006052</td>\n",
       "    </tr>\n",
       "    <tr>\n",
       "      <th>heart_disease</th>\n",
       "      <td>0.005793</td>\n",
       "    </tr>\n",
       "    <tr>\n",
       "      <th>ever_married</th>\n",
       "      <td>0.003596</td>\n",
       "    </tr>\n",
       "    <tr>\n",
       "      <th>work_type</th>\n",
       "      <td>0.002910</td>\n",
       "    </tr>\n",
       "    <tr>\n",
       "      <th>smoking_status</th>\n",
       "      <td>0.001512</td>\n",
       "    </tr>\n",
       "    <tr>\n",
       "      <th>bmi_cat</th>\n",
       "      <td>0.001092</td>\n",
       "    </tr>\n",
       "  </tbody>\n",
       "</table>\n",
       "</div>"
      ],
      "text/plain": [
       "                      MI\n",
       "hypertension    0.006987\n",
       "glucose_cat     0.006052\n",
       "heart_disease   0.005793\n",
       "ever_married    0.003596\n",
       "work_type       0.002910\n",
       "smoking_status  0.001512\n",
       "bmi_cat         0.001092"
      ]
     },
     "metadata": {},
     "output_type": "display_data"
    }
   ],
   "source": [
    "# calculate  the Mutual Information (MI) scores between the stroke column and each categorical feature in the cat list.\n",
    "from sklearn.metrics import mutual_info_score\n",
    "\n",
    "def calculate_mi(series):\n",
    "    return mutual_info_score(series, df.stroke)\n",
    "\n",
    "df_mi = df[cat].apply(calculate_mi)\n",
    "df_mi = df_mi.sort_values(ascending=False).to_frame(name='MI')\n",
    "display(df_mi.head(7))"
   ]
  },
  {
   "cell_type": "markdown",
   "metadata": {},
   "source": [
    "Since some of the columns are not much important in my analysis, then i'm going to drop by removing them and focus on the remaining features."
   ]
  },
  {
   "cell_type": "code",
   "execution_count": null,
   "metadata": {},
   "outputs": [],
   "source": [
    "# dropping unwanted columns\n",
    "df.drop(['smoking_status' , 'bmi_cat' , 'gender' ,\"Residence_type\"] , axis=1 , inplace=True)"
   ]
  },
  {
   "cell_type": "code",
   "execution_count": null,
   "metadata": {},
   "outputs": [],
   "source": [
    "cat = list(df.select_dtypes(include=\"O\").columns) # list that have an object data type, which typically represents categorical data.\n",
    "cat.remove('stroke') # removes the column 'stroke' from this list"
   ]
  },
  {
   "cell_type": "markdown",
   "metadata": {},
   "source": [
    "### Numerical Features (Correlation analysis)\n",
    "Correlation analysis (In the binary case, if the values are high, we see more zeros than ones in the target variable. When the values are low, we see more ones.)"
   ]
  },
  {
   "cell_type": "code",
   "execution_count": null,
   "metadata": {},
   "outputs": [
    {
     "data": {
      "text/plain": [
       "age                  0.250765\n",
       "avg_glucose_level    0.128773\n",
       "bmi                  0.010975\n",
       "dtype: float64"
      ]
     },
     "execution_count": 50,
     "metadata": {},
     "output_type": "execute_result"
    }
   ],
   "source": [
    "\"\"\"\n",
    "Lets now to understand the linear relationship between each numerical feature and the target variable.\n",
    "The output should have a series where each entry represents the correlation coefficient between 'stroke' and a numerical feature\n",
    "\"\"\"\n",
    "\n",
    "df[num].corrwith(df.stroke)\n"
   ]
  },
  {
   "cell_type": "markdown",
   "metadata": {},
   "source": [
    "Thus the more each variable is getting high the more likly the person is stroked\n",
    "\n"
   ]
  },
  {
   "cell_type": "code",
   "execution_count": null,
   "metadata": {},
   "outputs": [
    {
     "data": {
      "text/html": [
       "<div>\n",
       "<style scoped>\n",
       "    .dataframe tbody tr th:only-of-type {\n",
       "        vertical-align: middle;\n",
       "    }\n",
       "\n",
       "    .dataframe tbody tr th {\n",
       "        vertical-align: top;\n",
       "    }\n",
       "\n",
       "    .dataframe thead th {\n",
       "        text-align: right;\n",
       "    }\n",
       "</style>\n",
       "<table border=\"1\" class=\"dataframe\">\n",
       "  <thead>\n",
       "    <tr style=\"text-align: right;\">\n",
       "      <th></th>\n",
       "      <th>age</th>\n",
       "      <th>avg_glucose_level</th>\n",
       "      <th>bmi</th>\n",
       "    </tr>\n",
       "  </thead>\n",
       "  <tbody>\n",
       "    <tr>\n",
       "      <th>age</th>\n",
       "      <td>1.000000</td>\n",
       "      <td>0.233005</td>\n",
       "      <td>0.077648</td>\n",
       "    </tr>\n",
       "    <tr>\n",
       "      <th>avg_glucose_level</th>\n",
       "      <td>0.233005</td>\n",
       "      <td>1.000000</td>\n",
       "      <td>0.151694</td>\n",
       "    </tr>\n",
       "    <tr>\n",
       "      <th>bmi</th>\n",
       "      <td>0.077648</td>\n",
       "      <td>0.151694</td>\n",
       "      <td>1.000000</td>\n",
       "    </tr>\n",
       "  </tbody>\n",
       "</table>\n",
       "</div>"
      ],
      "text/plain": [
       "                        age  avg_glucose_level       bmi\n",
       "age                1.000000           0.233005  0.077648\n",
       "avg_glucose_level  0.233005           1.000000  0.151694\n",
       "bmi                0.077648           0.151694  1.000000"
      ]
     },
     "execution_count": 51,
     "metadata": {},
     "output_type": "execute_result"
    }
   ],
   "source": [
    "# # Compute the pairwise correlation matrix for all numerical features in the df.\n",
    "# This matrix shows the Pearson correlation coefficients between each pair of numerical columns,\n",
    "# helping to identify linear relationships and dependencies among numerical variables.\n",
    "\n",
    "\n",
    "df[num].corr()\n"
   ]
  },
  {
   "cell_type": "markdown",
   "metadata": {},
   "source": [
    "Going forward the 'bmi' column will not be needed or maybe redundant. We will be passing in 'inplace=True' parameter to ensure that the change is applied directly to the DataFrame without needing to assign it to a new variable.\n"
   ]
  },
  {
   "cell_type": "code",
   "execution_count": null,
   "metadata": {},
   "outputs": [],
   "source": [
    "# dropping the 'bmi'\n",
    "df.drop('bmi' , axis=1 , inplace=True)\n"
   ]
  },
  {
   "cell_type": "markdown",
   "metadata": {},
   "source": [
    "We now remove 'bmi' from the list of numerical features, as the 'bmi' column has been dropped from the DataFrame.\n",
    "This ensures that the 'bmi' column is no longer considered in subsequent analyses or operations involving numerical features.\n"
   ]
  },
  {
   "cell_type": "code",
   "execution_count": null,
   "metadata": {},
   "outputs": [],
   "source": [
    "# removing bmi from the numerical features\n",
    "num.remove('bmi')\n"
   ]
  },
  {
   "cell_type": "markdown",
   "metadata": {},
   "source": [
    "## Modeling\n",
    "### Data Resampling and spliting\n",
    "\n",
    "We are going to split the dataset into training and testing sets\n",
    "\n",
    "- 30% of the data is set aside for testing (test_df), while 70% is used for training (train).\n",
    "\n",
    "Further split the training data into training and validation sets\n",
    "- 15% of the original data is used for validation (valid_df), while the remaining 55% is used for training.\n",
    "\n",
    "The random_state is set to 42 for reproducibility, and shuffle=True ensures the data is randomly shuffled before splitting.\n",
    "\n"
   ]
  },
  {
   "cell_type": "code",
   "execution_count": null,
   "metadata": {},
   "outputs": [],
   "source": [
    "\n",
    "train , test_df  = train_test_split(df , test_size=0.3 , random_state=42 , shuffle=True)\n",
    "train_df , valid_df = train_test_split(train , test_size=0.15 , random_state=42 , shuffle=True)"
   ]
  },
  {
   "cell_type": "markdown",
   "metadata": {},
   "source": [
    "We are now going to check for the dimensions of the training, validation, and test datasets. This information provides insight into the size of each subset after splitting the original dataset, which is crucial for understanding how your data is distributed across different phases of model development."
   ]
  },
  {
   "cell_type": "code",
   "execution_count": null,
   "metadata": {},
   "outputs": [
    {
     "data": {
      "text/plain": [
       "((2120, 8), (375, 8), (1070, 8))"
      ]
     },
     "execution_count": 57,
     "metadata": {},
     "output_type": "execute_result"
    }
   ],
   "source": [
    "# checking number of samples and features in each dataset\n",
    "train_df.shape , valid_df.shape , test_df.shape\n"
   ]
  },
  {
   "cell_type": "markdown",
   "metadata": {},
   "source": [
    "## Data preprocessing\n",
    "### Encode and Scale the data for modeling"
   ]
  },
  {
   "cell_type": "code",
   "execution_count": null,
   "metadata": {},
   "outputs": [],
   "source": [
    "# Transformers\n",
    "from sklearn.compose import make_column_transformer\n",
    "def preprocess(df_train, df_valid , df_test, num, cat):\n",
    "    # Define transformers\n",
    "    ohe = OneHotEncoder(drop='first')\n",
    "    mms = MinMaxScaler()\n",
    "    scaler =StandardScaler()\n",
    "\n",
    "    transformer = make_column_transformer((mms, num),\n",
    "                                           (ohe, cat),\n",
    "                                          remainder='passthrough',verbose_feature_names_out=False)\n",
    "    # Fitting & Transformation\n",
    "    X_train = transformer.fit_transform(df_train[cat+num])\n",
    "    X_valid = transformer.transform(df_valid[cat+num])\n",
    "    X_test = transformer.fit_transform(df_test[cat+num])\n",
    "    columns=transformer.get_feature_names_out()\n",
    "    X_train = pd.DataFrame(X_train , columns=columns)\n",
    "    X_valid = pd.DataFrame(X_valid , columns=columns)\n",
    "    X_test = pd.DataFrame(X_test , columns=columns)\n",
    "    cat = [i for i in list(columns) if i not in num]\n",
    "    X_train[cat] = scaler.fit_transform(X_train[cat])\n",
    "    X_valid[cat] = scaler.transform(X_valid[cat])\n",
    "    X_test[cat] = scaler.fit_transform(X_test[cat])\n",
    "    \n",
    "   \n",
    "    return X_train , X_valid, X_test, list(columns)"
   ]
  },
  {
   "cell_type": "code",
   "execution_count": null,
   "metadata": {},
   "outputs": [],
   "source": [
    "X_train , X_val , X_test ,columns = preprocess(train_df, valid_df, test_df , num, cat)\n",
    "\n",
    "# we pass in the 'preprocess' function to prepare the datasets for model training and evaluation."
   ]
  },
  {
   "cell_type": "code",
   "execution_count": null,
   "metadata": {},
   "outputs": [],
   "source": [
    "#Prepare the target variables for training, validation, and testing datasets.\n",
    "# Convert 'stroke' column to integer type for each dataset\n",
    "\n",
    "y_train = train_df.stroke.astype(\"int\")\n",
    "y_valid = valid_df.stroke.astype(\"int\")\n",
    "y_test_df = test_df.stroke.astype(\"int\")"
   ]
  },
  {
   "cell_type": "markdown",
   "metadata": {},
   "source": [
    "We are going to define several different classifiers and combines them into a voting classifier. Voting classifiers work by aggregating predictions from multiple models to improve performance and robustness. The individual models include logistic regression, decision tree, and XGBoost, while the meta-model (not used here directly) is a linear SVC for potential stacking (which isn’t implemented in this snippet)."
   ]
  },
  {
   "cell_type": "code",
   "execution_count": null,
   "metadata": {},
   "outputs": [
    {
     "name": "stdout",
     "output_type": "stream",
     "text": [
      "Requirement already satisfied: xgboost in c:\\users\\dell\\anaconda3\\lib\\site-packages (2.1.1)\n",
      "Requirement already satisfied: numpy in c:\\users\\dell\\anaconda3\\lib\\site-packages (from xgboost) (1.26.4)\n",
      "Requirement already satisfied: scipy in c:\\users\\dell\\anaconda3\\lib\\site-packages (from xgboost) (1.11.4)\n"
     ]
    }
   ],
   "source": [
    "!pip install xgboost\n"
   ]
  },
  {
   "cell_type": "code",
   "execution_count": null,
   "metadata": {},
   "outputs": [],
   "source": [
    "from sklearn.ensemble import VotingClassifier\n",
    "from sklearn.ensemble import StackingClassifier\n",
    "\n",
    "from xgboost import XGBClassifier\n",
    "\n",
    "# Define individual classifiers\n",
    "xgb = XGBClassifier()\n",
    "\n",
    "\n",
    "lr = LogisticRegression(random_state=42 , C=0.5 , penalty = 'l2'  , class_weight={1 :0.7} )\n",
    "\n",
    "tr = DecisionTreeClassifier(criterion=\"entropy\" )\n",
    "\n",
    "svc = SVC(random_state=42)\n",
    "\n",
    "rm = RandomForestClassifier(n_estimators=30 , criterion=\"entropy\" )\n",
    "\n",
    "# Meta-model for stacking (not used in this snippet)\n",
    "meta_model = SVC(kernel='linear', probability=True)\n",
    "\n",
    "# Create a stacking classifier\n",
    "vot = VotingClassifier(estimators=[\n",
    "    ('lr', lr),\n",
    "    ('tr', tr),\n",
    "    ('gb', xgb)\n",
    "])"
   ]
  },
  {
   "cell_type": "code",
   "execution_count": null,
   "metadata": {},
   "outputs": [
    {
     "name": "stdout",
     "output_type": "stream",
     "text": [
      "Data shape : (4008, 11)\n",
      "* LogisticRegression(C=0.5, class_weight={1: 0.7}, random_state=42) \n",
      "\n",
      "Train Confustion metric \n",
      " [[1587  417]\n",
      " [  36   80]]\n",
      "Train Cls Report \n",
      "               precision    recall  f1-score   support\n",
      "\n",
      "           0       0.98      0.79      0.88      2004\n",
      "           1       0.16      0.69      0.26       116\n",
      "\n",
      "    accuracy                           0.79      2120\n",
      "   macro avg       0.57      0.74      0.57      2120\n",
      "weighted avg       0.93      0.79      0.84      2120\n",
      "\n",
      "--------------------------------------------------\n",
      "validation Confustion metric \n",
      " [[289  67]\n",
      " [  6  13]]\n",
      "validation Cls Report \n",
      "               precision    recall  f1-score   support\n",
      "\n",
      "           0       0.98      0.81      0.89       356\n",
      "           1       0.16      0.68      0.26        19\n",
      "\n",
      "    accuracy                           0.81       375\n",
      "   macro avg       0.57      0.75      0.58       375\n",
      "weighted avg       0.94      0.81      0.86       375\n",
      "\n",
      "--------------------------------------------------\n",
      "Cross val score :  0.7582358087303589\n",
      "* SVC(random_state=42) \n",
      "\n",
      "Train Confustion metric \n",
      " [[1517  487]\n",
      " [  26   90]]\n",
      "Train Cls Report \n",
      "               precision    recall  f1-score   support\n",
      "\n",
      "           0       0.98      0.76      0.86      2004\n",
      "           1       0.16      0.78      0.26       116\n",
      "\n",
      "    accuracy                           0.76      2120\n",
      "   macro avg       0.57      0.77      0.56      2120\n",
      "weighted avg       0.94      0.76      0.82      2120\n",
      "\n",
      "--------------------------------------------------\n",
      "validation Confustion metric \n",
      " [[276  80]\n",
      " [  7  12]]\n",
      "validation Cls Report \n",
      "               precision    recall  f1-score   support\n",
      "\n",
      "           0       0.98      0.78      0.86       356\n",
      "           1       0.13      0.63      0.22        19\n",
      "\n",
      "    accuracy                           0.77       375\n",
      "   macro avg       0.55      0.70      0.54       375\n",
      "weighted avg       0.93      0.77      0.83       375\n",
      "\n",
      "--------------------------------------------------\n",
      "Cross val score :  0.79615567822018\n",
      "* DecisionTreeClassifier(criterion='entropy') \n",
      "\n",
      "Train Confustion metric \n",
      " [[2004    0]\n",
      " [   0  116]]\n",
      "Train Cls Report \n",
      "               precision    recall  f1-score   support\n",
      "\n",
      "           0       1.00      1.00      1.00      2004\n",
      "           1       1.00      1.00      1.00       116\n",
      "\n",
      "    accuracy                           1.00      2120\n",
      "   macro avg       1.00      1.00      1.00      2120\n",
      "weighted avg       1.00      1.00      1.00      2120\n",
      "\n",
      "--------------------------------------------------\n",
      "validation Confustion metric \n",
      " [[313  43]\n",
      " [ 12   7]]\n",
      "validation Cls Report \n",
      "               precision    recall  f1-score   support\n",
      "\n",
      "           0       0.96      0.88      0.92       356\n",
      "           1       0.14      0.37      0.20        19\n",
      "\n",
      "    accuracy                           0.85       375\n",
      "   macro avg       0.55      0.62      0.56       375\n",
      "weighted avg       0.92      0.85      0.88       375\n",
      "\n",
      "--------------------------------------------------\n",
      "Cross val score :  0.8792460172913534\n",
      "* RandomForestClassifier(criterion='entropy', n_estimators=30) \n",
      "\n",
      "Train Confustion metric \n",
      " [[2003    1]\n",
      " [   1  115]]\n",
      "Train Cls Report \n",
      "               precision    recall  f1-score   support\n",
      "\n",
      "           0       1.00      1.00      1.00      2004\n",
      "           1       0.99      0.99      0.99       116\n",
      "\n",
      "    accuracy                           1.00      2120\n",
      "   macro avg       1.00      1.00      1.00      2120\n",
      "weighted avg       1.00      1.00      1.00      2120\n",
      "\n",
      "--------------------------------------------------\n",
      "validation Confustion metric \n",
      " [[312  44]\n",
      " [ 14   5]]\n",
      "validation Cls Report \n",
      "               precision    recall  f1-score   support\n",
      "\n",
      "           0       0.96      0.88      0.91       356\n",
      "           1       0.10      0.26      0.15        19\n",
      "\n",
      "    accuracy                           0.85       375\n",
      "   macro avg       0.53      0.57      0.53       375\n",
      "weighted avg       0.91      0.85      0.88       375\n",
      "\n",
      "--------------------------------------------------\n",
      "Cross val score :  0.896453311166528\n",
      "* XGBClassifier(base_score=None, booster=None, callbacks=None,\n",
      "              colsample_bylevel=None, colsample_bynode=None,\n",
      "              colsample_bytree=None, device=None, early_stopping_rounds=None,\n",
      "              enable_categorical=False, eval_metric=None, feature_types=None,\n",
      "              gamma=None, grow_policy=None, importance_type=None,\n",
      "              interaction_constraints=None, learning_rate=None, max_bin=None,\n",
      "              max_cat_threshold=None, max_cat_to_onehot=None,\n",
      "              max_delta_step=None, max_depth=None, max_leaves=None,\n",
      "              min_child_weight=None, missing=nan, monotone_constraints=None,\n",
      "              multi_strategy=None, n_estimators=None, n_jobs=None,\n",
      "              num_parallel_tree=None, random_state=None, ...) \n",
      "\n",
      "Train Confustion metric \n",
      " [[1966   38]\n",
      " [  25   91]]\n",
      "Train Cls Report \n",
      "               precision    recall  f1-score   support\n",
      "\n",
      "           0       0.99      0.98      0.98      2004\n",
      "           1       0.71      0.78      0.74       116\n",
      "\n",
      "    accuracy                           0.97      2120\n",
      "   macro avg       0.85      0.88      0.86      2120\n",
      "weighted avg       0.97      0.97      0.97      2120\n",
      "\n",
      "--------------------------------------------------\n",
      "validation Confustion metric \n",
      " [[324  32]\n",
      " [ 14   5]]\n",
      "validation Cls Report \n",
      "               precision    recall  f1-score   support\n",
      "\n",
      "           0       0.96      0.91      0.93       356\n",
      "           1       0.14      0.26      0.18        19\n",
      "\n",
      "    accuracy                           0.88       375\n",
      "   macro avg       0.55      0.59      0.56       375\n",
      "weighted avg       0.92      0.88      0.90       375\n",
      "\n",
      "--------------------------------------------------\n",
      "Cross val score :  0.91067773761601\n",
      "* VotingClassifier(estimators=[('lr',\n",
      "                              LogisticRegression(C=0.5, class_weight={1: 0.7},\n",
      "                                                 random_state=42)),\n",
      "                             ('tr',\n",
      "                              DecisionTreeClassifier(criterion='entropy')),\n",
      "                             ('gb',\n",
      "                              XGBClassifier(base_score=None, booster=None,\n",
      "                                            callbacks=None,\n",
      "                                            colsample_bylevel=None,\n",
      "                                            colsample_bynode=None,\n",
      "                                            colsample_bytree=None, device=None,\n",
      "                                            early_stopping_rounds=None,\n",
      "                                            enable_categorical=False,\n",
      "                                            eval_...\n",
      "                                            grow_policy=None,\n",
      "                                            importance_type=None,\n",
      "                                            interaction_constraints=None,\n",
      "                                            learning_rate=None, max_bin=None,\n",
      "                                            max_cat_threshold=None,\n",
      "                                            max_cat_to_onehot=None,\n",
      "                                            max_delta_step=None, max_depth=None,\n",
      "                                            max_leaves=None,\n",
      "                                            min_child_weight=None, missing=nan,\n",
      "                                            monotone_constraints=None,\n",
      "                                            multi_strategy=None,\n",
      "                                            n_estimators=None, n_jobs=None,\n",
      "                                            num_parallel_tree=None,\n",
      "                                            random_state=None, ...))]) \n",
      "\n",
      "Train Confustion metric \n",
      " [[1979   25]\n",
      " [  13  103]]\n",
      "Train Cls Report \n",
      "               precision    recall  f1-score   support\n",
      "\n",
      "           0       0.99      0.99      0.99      2004\n",
      "           1       0.80      0.89      0.84       116\n",
      "\n",
      "    accuracy                           0.98      2120\n",
      "   macro avg       0.90      0.94      0.92      2120\n",
      "weighted avg       0.98      0.98      0.98      2120\n",
      "\n",
      "--------------------------------------------------\n",
      "validation Confustion metric \n",
      " [[320  36]\n",
      " [ 13   6]]\n",
      "validation Cls Report \n",
      "               precision    recall  f1-score   support\n",
      "\n",
      "           0       0.96      0.90      0.93       356\n",
      "           1       0.14      0.32      0.20        19\n",
      "\n",
      "    accuracy                           0.87       375\n",
      "   macro avg       0.55      0.61      0.56       375\n",
      "weighted avg       0.92      0.87      0.89       375\n",
      "\n",
      "--------------------------------------------------\n",
      "Cross val score :  0.8969517529522012\n"
     ]
    }
   ],
   "source": [
    "from imblearn.under_sampling import TomekLinks\n",
    "from imblearn.over_sampling import SMOTE\n",
    "from imblearn.combine import SMOTETomek\n",
    "from imblearn.under_sampling import ClusterCentroids\n",
    "from sklearn.metrics import accuracy_score , f1_score , roc_curve , confusion_matrix , recall_score \n",
    "from sklearn.metrics import classification_report\n",
    "from sklearn.model_selection import cross_val_score\n",
    "\n",
    "\n",
    "models_pred = []\n",
    "smote = SMOTE(random_state=42)\n",
    "X_re , y_re  = smote.fit_resample(X_train , y_train)\n",
    "\n",
    "print(f\"Data shape : {X_re.shape}\")\n",
    "for model in [lr , svc  , tr  , rm , xgb , vot]:\n",
    "    print(f\"* {model} \\n\")\n",
    "    model.fit(X_re, y_re)\n",
    "    t_pred = model.predict(X_train)\n",
    "    print('Train Confustion metric \\n' , confusion_matrix(y_train ,t_pred))\n",
    "    print(\"Train Cls Report \\n\" ,classification_report(y_train , t_pred))\n",
    "    print(\"-\"*50)\n",
    "    val_pre = model.predict(X_val)\n",
    "    print('validation Confustion metric \\n' , confusion_matrix(y_valid ,val_pre))\n",
    "    print(\"validation Cls Report \\n\" ,classification_report(y_valid , val_pre))\n",
    "    print(\"-\"*50)\n",
    "    scores = cross_val_score(model , X_re , y_re , cv= KFold(n_splits=5 , shuffle=True) )\n",
    "    print(\"Cross val score : \" ,np.mean(scores))\n",
    "    "
   ]
  },
  {
   "cell_type": "markdown",
   "metadata": {},
   "source": [
    "From the above output we  can clearly see that the XGBoost or Voting Classifier is best for final model selection due to their higher cross-validation scores."
   ]
  },
  {
   "cell_type": "markdown",
   "metadata": {},
   "source": [
    "### Logistic Regression (lr)\n",
    "We are now going to evaluate a classification model using the Logistic Regression (lr in this case) on the test dataset. It calculates and prints the confusion matrix and the classification report, which are essential metrics for assessing the model’s performance."
   ]
  },
  {
   "cell_type": "code",
   "execution_count": null,
   "metadata": {},
   "outputs": [
    {
     "name": "stdout",
     "output_type": "stream",
     "text": [
      "* Confustion metric: \n",
      " [[820 183]\n",
      " [ 29  38]]\n",
      "--------------------------------------------------\n",
      "* Cls Report: \n",
      "               precision    recall  f1-score   support\n",
      "\n",
      "           0       0.97      0.82      0.89      1003\n",
      "           1       0.17      0.57      0.26        67\n",
      "\n",
      "    accuracy                           0.80      1070\n",
      "   macro avg       0.57      0.69      0.57      1070\n",
      "weighted avg       0.92      0.80      0.85      1070\n",
      "\n",
      "--------------------------------------------------\n"
     ]
    }
   ],
   "source": [
    "test_pred = lr.predict(X_test)\n",
    "print('* Confustion metric: \\n' , confusion_matrix(y_test_df ,test_pred))\n",
    "print(\"-\"*50)\n",
    "print(\"* Cls Report: \\n\" ,classification_report(y_test_df , test_pred))\n",
    "print(\"-\"*50)"
   ]
  },
  {
   "cell_type": "markdown",
   "metadata": {},
   "source": [
    "Confusion Matrix Analysis:\n",
    "\n",
    "True Negatives (TN): 820\n",
    "\n",
    "False Positives (FP): 183\n",
    "\n",
    "False Negatives (FN): 29\n",
    "\n",
    "True Positives (TP): 38\n",
    "\n",
    "The confusion matrix indicates that the model correctly predicted 820 instances as non-stroke (TN) and 38 instances as stroke (TP). However, it misclassified 183 non-stroke cases as stroke (FP) and 29 stroke cases as non-stroke (FN).\n",
    "\n",
    "The model is highly precise in predicting non-stroke cases, meaning that when it predicts no stroke, it is correct 97% of the time.\n",
    "\n",
    "The model identifies 82% of actual non-stroke cases correctly.\n",
    "\n",
    "For class 1 ,The precision is low, indicating that only 17% of predicted stroke cases are actually strokes. This reflects a high rate of false positives for stroke predictions.\n",
    "\n",
    "The model identifies 82% of actual non-stroke cases correctly(Recall for Class 0)\n",
    "\n",
    "The precision for Class 1 (Stroke) is low, indicating that only 17% of predicted stroke cases are actually strokes. This reflects a high rate of false positives for stroke predictions.\n",
    "\n",
    "The model correctly identifies 57% of actual stroke cases.(Class 1 ,Stroke)\n",
    "\n",
    "The F1-score for class 1(Stroke), which is the harmonic mean of precision and recall, is quite low, suggesting that the model has poor performance in identifying stroke cases.\n",
    "\n",
    "The overall accuracy is 80%, which reflects the proportion of total correct predictions (both stroke and non-stroke) over all predictions.\n"
   ]
  },
  {
   "cell_type": "code",
   "execution_count": null,
   "metadata": {},
   "outputs": [
    {
     "data": {
      "text/plain": [
       "gender                object\n",
       "age                  float64\n",
       "hypertension          object\n",
       "heart_disease         object\n",
       "ever_married          object\n",
       "work_type             object\n",
       "Residence_type        object\n",
       "avg_glucose_level    float64\n",
       "bmi                  float64\n",
       "smoking_status        object\n",
       "stroke                object\n",
       "dtype: object"
      ]
     },
     "execution_count": 31,
     "metadata": {},
     "output_type": "execute_result"
    }
   ],
   "source": [
    "df.dtypes"
   ]
  },
  {
   "cell_type": "code",
   "execution_count": null,
   "metadata": {},
   "outputs": [
    {
     "name": "stdout",
     "output_type": "stream",
     "text": [
      "Stroke People     :  202\n",
      "Non-Stroke People :  3363\n"
     ]
    }
   ],
   "source": [
    "# Checking the target feature:\n",
    "print(\"Stroke People     : \", df['stroke'].value_counts()[1])\n",
    "print(\"Non-Stroke People : \", df['stroke'].value_counts()[0])"
   ]
  },
  {
   "cell_type": "markdown",
   "metadata": {},
   "source": [
    "By seeing target feature, We clearly say we have imbalanced dataset.\n"
   ]
  },
  {
   "cell_type": "markdown",
   "metadata": {},
   "source": [
    "## Summary"
   ]
  },
  {
   "cell_type": "markdown",
   "metadata": {},
   "source": [
    "## Key findings\n",
    "### 1.Significant Factors:\n",
    "\n",
    "Features such as hypertension, heart_disease, bmi_cat, and glucose_cat were found to significantly influence stroke risk.\n",
    "The presence of hypertension and heart disease showed a strong correlation with higher stroke risk.\n",
    "### 2.High-Risk Identification:\n",
    "\n",
    "The analysis revealed that individuals with high BMI or high glucose levels are at increased risk of stroke.\n",
    "Categorical features like smoking status and work type also provided insights into stroke risk distribution.\n",
    "### 3.Preventive Measures:\n",
    "\n",
    "Based on the findings, preventive measures can include lifestyle modifications for individuals with high BMI or glucose levels.\n",
    "Tailored health screenings and interventions are recommended for individuals with hypertension or heart disease.\n"
   ]
  },
  {
   "cell_type": "markdown",
   "metadata": {},
   "source": [
    "## Recommendations"
   ]
  },
  {
   "cell_type": "markdown",
   "metadata": {},
   "source": [
    "#### 1.Feature Engineering:\n",
    "\n",
    "Enhance Feature Creation: Consider creating additional features or interactions between existing features to capture more complex patterns that may influence stroke risk.\n",
    "#### 2.Model Improvement:\n",
    "\n",
    "Experiment with Other Models: Beyond Logistic Regression, try using other classification models (e.g., Random Forest, Gradient Boosting) to improve predictive performance.\n",
    "\n",
    "Hyperparameter Tuning: Optimize model parameters using techniques such as Grid Search or Random Search to enhance model accuracy.\n",
    "#### 3.Handling Class Imbalance:\n",
    "\n",
    "Resampling Techniques: If stroke cases are imbalanced, consider using oversampling (e.g., SMOTE) or undersampling techniques to balance the classes and improve model performance.\n",
    "#### 4.Model Evaluation:\n",
    "\n",
    "Cross-Validation: Implement cross-validation to ensure the model’s performance is consistent across different subsets of the data.\n",
    "\n",
    "Additional Metrics: Evaluate models using additional metrics such as ROC-AUC or Precision-Recall curves to gain a comprehensive understanding of their performance"
   ]
  },
  {
   "cell_type": "markdown",
   "metadata": {},
   "source": [
    "# Conclusion\n",
    "The analysis provided insights into the relationship between various features and stroke risk. The preliminary Logistic Regression model served as a good starting point, but further exploration with additional models and feature engineering could yield better results. The recommendations focus on improving feature engineering, model selection, and evaluation strategies to enhance predictive accuracy and robustness. By addressing these areas, the overall effectiveness of predicting stroke risk can be significantly improved."
   ]
  },
  {
   "cell_type": "code",
   "execution_count": null,
   "metadata": {},
   "outputs": [],
   "source": []
  }
 ],
 "metadata": {
  "kernelspec": {
   "display_name": "base",
   "language": "python",
   "name": "python3"
  },
  "language_info": {
   "codemirror_mode": {
    "name": "ipython",
    "version": 3
   },
   "file_extension": ".py",
   "mimetype": "text/x-python",
   "name": "python",
   "nbconvert_exporter": "python",
   "pygments_lexer": "ipython3",
   "version": "3.11.7"
  }
 },
 "nbformat": 4,
 "nbformat_minor": 2
}
